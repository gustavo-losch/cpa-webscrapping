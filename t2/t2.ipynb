{
 "cells": [
  {
   "cell_type": "code",
   "execution_count": 16,
   "metadata": {},
   "outputs": [],
   "source": [
    "from selenium import webdriver\n",
    "from selenium.webdriver.common.by import By\n",
    "import json\n",
    "import time\n",
    "import re\n",
    "import os"
   ]
  },
  {
   "cell_type": "code",
   "execution_count": 2,
   "metadata": {},
   "outputs": [],
   "source": [
    "driver = webdriver.Firefox()\n",
    "driver.get(\"https://www.imdb.com\")\n",
    "driver.maximize_window()\n"
   ]
  },
  {
   "cell_type": "code",
   "execution_count": 3,
   "metadata": {},
   "outputs": [],
   "source": [
    "menu = driver.find_element(By.XPATH, r\"//*[@id='imdbHeader-navDrawerOpen']\")"
   ]
  },
  {
   "cell_type": "code",
   "execution_count": 4,
   "metadata": {},
   "outputs": [],
   "source": [
    "menu.click()\n",
    "time.sleep(1)"
   ]
  },
  {
   "cell_type": "code",
   "execution_count": 5,
   "metadata": {},
   "outputs": [
    {
     "ename": "NoSuchElementException",
     "evalue": "Message: no such element: Unable to locate element: {\"method\":\"link text\",\"selector\":\"250 séries mais populares\"}\n  (Session info: chrome=135.0.7049.115); For documentation on this error, please visit: https://www.selenium.dev/documentation/webdriver/troubleshooting/errors#no-such-element-exception\nStacktrace:\n\tGetHandleVerifier [0x00007FF60F52EFA5+77893]\n\tGetHandleVerifier [0x00007FF60F52F000+77984]\n\t(No symbol) [0x00007FF60F2F91BA]\n\t(No symbol) [0x00007FF60F34F16D]\n\t(No symbol) [0x00007FF60F34F41C]\n\t(No symbol) [0x00007FF60F3A2237]\n\t(No symbol) [0x00007FF60F37716F]\n\t(No symbol) [0x00007FF60F39F07F]\n\t(No symbol) [0x00007FF60F376F03]\n\t(No symbol) [0x00007FF60F340328]\n\t(No symbol) [0x00007FF60F341093]\n\tGetHandleVerifier [0x00007FF60F7E7B6D+2931725]\n\tGetHandleVerifier [0x00007FF60F7E2132+2908626]\n\tGetHandleVerifier [0x00007FF60F8000F3+3031443]\n\tGetHandleVerifier [0x00007FF60F5491EA+184970]\n\tGetHandleVerifier [0x00007FF60F55086F+215311]\n\tGetHandleVerifier [0x00007FF60F536EC4+110436]\n\tGetHandleVerifier [0x00007FF60F537072+110866]\n\tGetHandleVerifier [0x00007FF60F51D479+5401]\n\tBaseThreadInitThunk [0x00007FF9966EE8D7+23]\n\tRtlUserThreadStart [0x00007FF996EFC5DC+44]\n",
     "output_type": "error",
     "traceback": [
      "\u001b[31m---------------------------------------------------------------------------\u001b[39m",
      "\u001b[31mNoSuchElementException\u001b[39m                    Traceback (most recent call last)",
      "\u001b[36mCell\u001b[39m\u001b[36m \u001b[39m\u001b[32mIn[8]\u001b[39m\u001b[32m, line 1\u001b[39m\n\u001b[32m----> \u001b[39m\u001b[32m1\u001b[39m link_populares = \u001b[43mdriver\u001b[49m\u001b[43m.\u001b[49m\u001b[43mfind_element\u001b[49m\u001b[43m(\u001b[49m\u001b[43mBy\u001b[49m\u001b[43m.\u001b[49m\u001b[43mLINK_TEXT\u001b[49m\u001b[43m,\u001b[49m\u001b[43m \u001b[49m\u001b[33;43mr\u001b[39;49m\u001b[33;43m'\u001b[39;49m\u001b[33;43m250 séries mais populares\u001b[39;49m\u001b[33;43m'\u001b[39;49m\u001b[43m)\u001b[49m\n",
      "\u001b[36mFile \u001b[39m\u001b[32mc:\\Users\\Desktop_Henrique\\miniconda3\\envs\\cpa\\Lib\\site-packages\\selenium\\webdriver\\remote\\webdriver.py:898\u001b[39m, in \u001b[36mWebDriver.find_element\u001b[39m\u001b[34m(self, by, value)\u001b[39m\n\u001b[32m    895\u001b[39m         \u001b[38;5;28;01mraise\u001b[39;00m NoSuchElementException(\u001b[33mf\u001b[39m\u001b[33m\"\u001b[39m\u001b[33mCannot locate relative element with: \u001b[39m\u001b[38;5;132;01m{\u001b[39;00mby.root\u001b[38;5;132;01m}\u001b[39;00m\u001b[33m\"\u001b[39m)\n\u001b[32m    896\u001b[39m     \u001b[38;5;28;01mreturn\u001b[39;00m elements[\u001b[32m0\u001b[39m]\n\u001b[32m--> \u001b[39m\u001b[32m898\u001b[39m \u001b[38;5;28;01mreturn\u001b[39;00m \u001b[38;5;28;43mself\u001b[39;49m\u001b[43m.\u001b[49m\u001b[43mexecute\u001b[49m\u001b[43m(\u001b[49m\u001b[43mCommand\u001b[49m\u001b[43m.\u001b[49m\u001b[43mFIND_ELEMENT\u001b[49m\u001b[43m,\u001b[49m\u001b[43m \u001b[49m\u001b[43m{\u001b[49m\u001b[33;43m\"\u001b[39;49m\u001b[33;43musing\u001b[39;49m\u001b[33;43m\"\u001b[39;49m\u001b[43m:\u001b[49m\u001b[43m \u001b[49m\u001b[43mby\u001b[49m\u001b[43m,\u001b[49m\u001b[43m \u001b[49m\u001b[33;43m\"\u001b[39;49m\u001b[33;43mvalue\u001b[39;49m\u001b[33;43m\"\u001b[39;49m\u001b[43m:\u001b[49m\u001b[43m \u001b[49m\u001b[43mvalue\u001b[49m\u001b[43m}\u001b[49m\u001b[43m)\u001b[49m[\u001b[33m\"\u001b[39m\u001b[33mvalue\u001b[39m\u001b[33m\"\u001b[39m]\n",
      "\u001b[36mFile \u001b[39m\u001b[32mc:\\Users\\Desktop_Henrique\\miniconda3\\envs\\cpa\\Lib\\site-packages\\selenium\\webdriver\\remote\\webdriver.py:429\u001b[39m, in \u001b[36mWebDriver.execute\u001b[39m\u001b[34m(self, driver_command, params)\u001b[39m\n\u001b[32m    427\u001b[39m response = \u001b[38;5;28mself\u001b[39m.command_executor.execute(driver_command, params)\n\u001b[32m    428\u001b[39m \u001b[38;5;28;01mif\u001b[39;00m response:\n\u001b[32m--> \u001b[39m\u001b[32m429\u001b[39m     \u001b[38;5;28;43mself\u001b[39;49m\u001b[43m.\u001b[49m\u001b[43merror_handler\u001b[49m\u001b[43m.\u001b[49m\u001b[43mcheck_response\u001b[49m\u001b[43m(\u001b[49m\u001b[43mresponse\u001b[49m\u001b[43m)\u001b[49m\n\u001b[32m    430\u001b[39m     response[\u001b[33m\"\u001b[39m\u001b[33mvalue\u001b[39m\u001b[33m\"\u001b[39m] = \u001b[38;5;28mself\u001b[39m._unwrap_value(response.get(\u001b[33m\"\u001b[39m\u001b[33mvalue\u001b[39m\u001b[33m\"\u001b[39m, \u001b[38;5;28;01mNone\u001b[39;00m))\n\u001b[32m    431\u001b[39m     \u001b[38;5;28;01mreturn\u001b[39;00m response\n",
      "\u001b[36mFile \u001b[39m\u001b[32mc:\\Users\\Desktop_Henrique\\miniconda3\\envs\\cpa\\Lib\\site-packages\\selenium\\webdriver\\remote\\errorhandler.py:232\u001b[39m, in \u001b[36mErrorHandler.check_response\u001b[39m\u001b[34m(self, response)\u001b[39m\n\u001b[32m    230\u001b[39m         alert_text = value[\u001b[33m\"\u001b[39m\u001b[33malert\u001b[39m\u001b[33m\"\u001b[39m].get(\u001b[33m\"\u001b[39m\u001b[33mtext\u001b[39m\u001b[33m\"\u001b[39m)\n\u001b[32m    231\u001b[39m     \u001b[38;5;28;01mraise\u001b[39;00m exception_class(message, screen, stacktrace, alert_text)  \u001b[38;5;66;03m# type: ignore[call-arg]  # mypy is not smart enough here\u001b[39;00m\n\u001b[32m--> \u001b[39m\u001b[32m232\u001b[39m \u001b[38;5;28;01mraise\u001b[39;00m exception_class(message, screen, stacktrace)\n",
      "\u001b[31mNoSuchElementException\u001b[39m: Message: no such element: Unable to locate element: {\"method\":\"link text\",\"selector\":\"250 séries mais populares\"}\n  (Session info: chrome=135.0.7049.115); For documentation on this error, please visit: https://www.selenium.dev/documentation/webdriver/troubleshooting/errors#no-such-element-exception\nStacktrace:\n\tGetHandleVerifier [0x00007FF60F52EFA5+77893]\n\tGetHandleVerifier [0x00007FF60F52F000+77984]\n\t(No symbol) [0x00007FF60F2F91BA]\n\t(No symbol) [0x00007FF60F34F16D]\n\t(No symbol) [0x00007FF60F34F41C]\n\t(No symbol) [0x00007FF60F3A2237]\n\t(No symbol) [0x00007FF60F37716F]\n\t(No symbol) [0x00007FF60F39F07F]\n\t(No symbol) [0x00007FF60F376F03]\n\t(No symbol) [0x00007FF60F340328]\n\t(No symbol) [0x00007FF60F341093]\n\tGetHandleVerifier [0x00007FF60F7E7B6D+2931725]\n\tGetHandleVerifier [0x00007FF60F7E2132+2908626]\n\tGetHandleVerifier [0x00007FF60F8000F3+3031443]\n\tGetHandleVerifier [0x00007FF60F5491EA+184970]\n\tGetHandleVerifier [0x00007FF60F55086F+215311]\n\tGetHandleVerifier [0x00007FF60F536EC4+110436]\n\tGetHandleVerifier [0x00007FF60F537072+110866]\n\tGetHandleVerifier [0x00007FF60F51D479+5401]\n\tBaseThreadInitThunk [0x00007FF9966EE8D7+23]\n\tRtlUserThreadStart [0x00007FF996EFC5DC+44]\n"
     ]
    }
   ],
   "source": [
    "link_populares = driver.find_element(By.LINK_TEXT, r'250 séries mais populares')"
   ]
  },
  {
   "cell_type": "code",
   "execution_count": 6,
   "metadata": {},
   "outputs": [
    {
     "data": {
      "text/plain": [
       "'https://www.imdb.com/pt/chart/toptv/?ref_=nv_tvv_250'"
      ]
     },
     "execution_count": 6,
     "metadata": {},
     "output_type": "execute_result"
    }
   ],
   "source": [
    "url = link_populares.get_attribute(\"href\")\n",
    "url"
   ]
  },
  {
   "cell_type": "code",
   "execution_count": 7,
   "metadata": {},
   "outputs": [],
   "source": [
    "driver.get(url)"
   ]
  },
  {
   "cell_type": "code",
   "execution_count": 8,
   "metadata": {},
   "outputs": [],
   "source": [
    "tag_ul = driver.find_element(By.XPATH, r'//*[@id=\"__next\"]/main/div/div[3]/section/div/div[2]/div/ul')\n",
    "lista_series = tag_ul.find_elements(By.TAG_NAME, \"li\")"
   ]
  },
  {
   "cell_type": "code",
   "execution_count": 52,
   "metadata": {},
   "outputs": [
    {
     "data": {
      "text/plain": [
       "list"
      ]
     },
     "execution_count": 52,
     "metadata": {},
     "output_type": "execute_result"
    }
   ],
   "source": [
    "type(lista_series)"
   ]
  },
  {
   "cell_type": "code",
   "execution_count": 9,
   "metadata": {},
   "outputs": [
    {
     "name": "stdout",
     "output_type": "stream",
     "text": [
      "250/249\r"
     ]
    }
   ],
   "source": [
    "series_list = []\n",
    "i=0\n",
    "for serie in lista_series:\n",
    "    i+=1\n",
    "    print(f\"{i}/{len(series_list)}\", end=\"\\r\")\n",
    "    titulo = str(serie.find_element(By.CLASS_NAME, \"ipc-title__text\").text.split(\".\", 1)[-1]).strip()\n",
    "    link = serie.find_element(By.CLASS_NAME, \"ipc-title-link-wrapper\").get_attribute('href')\n",
    "    ano = serie.find_element(By.XPATH, r'./div/div/div/div/div[2]/div[2]/span[1]').text\n",
    "    imdb = float(serie.find_elements(By.CSS_SELECTOR, \".ipc-rating-star--imdb\")[0].text.split(\"\\n\")[0].replace(\",\",\".\"))\n",
    "    ep = int(serie.find_element(By.XPATH, r'./div/div/div/div/div[2]/div[2]/span[2]').text.split(\" \")[0])\n",
    "    \n",
    "    series_list.append({\n",
    "         \"titulo\": titulo,\n",
    "         \"anolancamento\": ano,\n",
    "         \"episodios\": ep,\n",
    "         \"imdb\": imdb,\n",
    "         \"link\": link\n",
    "        })"
   ]
  },
  {
   "cell_type": "code",
   "execution_count": 10,
   "metadata": {},
   "outputs": [
    {
     "name": "stdout",
     "output_type": "stream",
     "text": [
      "Ator ou personagem vazio.\n",
      "Ator ou personagem vazio.\n",
      "Ator ou personagem vazio.\n",
      "Ator ou personagem vazio.\n",
      "Ator ou personagem vazio.\n",
      "Ator ou personagem vazio.\n",
      "Ator ou personagem vazio.\n",
      "Ator ou personagem vazio.\n",
      "Ator ou personagem vazio.\n",
      "Ator ou personagem vazio.\n",
      "Ator ou personagem vazio.\n",
      "Ator ou personagem vazio.\n",
      "Ator ou personagem vazio.\n",
      "Ator ou personagem vazio.\n",
      "Ator ou personagem vazio.\n",
      "Ator ou personagem vazio.\n",
      "Ator ou personagem vazio.\n",
      "Ator ou personagem vazio.\n",
      "Ator ou personagem vazio.\n",
      "Ator ou personagem vazio.\n",
      "250/250\r"
     ]
    }
   ],
   "source": [
    "i=0\n",
    "for serie in series_list:\n",
    "    i+=1\n",
    "    print(f\"{i}/{len(series_list)}\", end=\"\\r\")\n",
    "    try:\n",
    "        driver.get(serie['link'])\n",
    "        \n",
    "        tag = driver.find_element(By.XPATH, r'//*[@id=\"__next\"]/main/div/section/section/div[3]/section/section/div[2]/div[2]/div/div[3]/a/span/div/div[2]/div').text\n",
    "        serie['popularidade'] = int(tag.replace(\".\",\"\"))\n",
    "\n",
    "        lista_elenco = driver.find_elements(By.CSS_SELECTOR, \"[data-testid='title-cast-item']\")\n",
    "        \n",
    "        elenco = [ator.find_element(By.CSS_SELECTOR, \"[data-testid='title-cast-item__actor']\").text for ator in lista_elenco]\n",
    "        serie[\"atores\"] = elenco\n",
    "\n",
    "        personagens = [personagem.find_elements(By.CSS_SELECTOR, \"[data-testid='cast-item-characters-link']\")[0].text for personagem in lista_elenco]\n",
    "        serie[\"personagens\"] = personagens\n",
    "    except:\n",
    "        print(\"Ator ou personagem vazio.\")\n",
    "        continue"
   ]
  },
  {
   "cell_type": "code",
   "execution_count": 11,
   "metadata": {},
   "outputs": [
    {
     "data": {
      "text/plain": [
       "250"
      ]
     },
     "execution_count": 11,
     "metadata": {},
     "output_type": "execute_result"
    }
   ],
   "source": [
    "len(series_list)"
   ]
  },
  {
   "cell_type": "code",
   "execution_count": 15,
   "metadata": {},
   "outputs": [
    {
     "name": "stdout",
     "output_type": "stream",
     "text": [
      "1\n",
      "2\n",
      "3\n",
      "4\n",
      "5\n",
      "6\n",
      "7\n",
      "8\n",
      "9\n",
      "10\n",
      "11\n",
      "12\n",
      "13\n",
      "14\n",
      "15\n",
      "16\n",
      "17\n",
      "18\n",
      "19\n",
      "20\n",
      "21\n",
      "22\n",
      "23\n",
      "24\n",
      "25\n",
      "26\n",
      "27\n",
      "28\n",
      "29\n",
      "30\n",
      "31\n",
      "32\n",
      "33\n",
      "34\n",
      "35\n",
      "36\n",
      "37\n",
      "38\n",
      "39\n",
      "40\n",
      "41\n",
      "42\n",
      "43\n",
      "44\n",
      "45\n",
      "46\n",
      "47\n",
      "48\n",
      "49\n",
      "50\n",
      "51\n",
      "52\n",
      "53\n",
      "54\n",
      "55\n",
      "56\n",
      "57\n",
      "58\n",
      "59\n",
      "60\n",
      "61\n",
      "62\n",
      "63\n",
      "64\n",
      "65\n",
      "66\n",
      "67\n",
      "68\n",
      "69\n",
      "70\n",
      "71\n",
      "72\n",
      "73\n",
      "74\n",
      "75\n",
      "76\n",
      "77\n",
      "78\n",
      "79\n",
      "80\n",
      "81\n",
      "82\n",
      "83\n",
      "84\n",
      "85\n",
      "86\n",
      "87\n",
      "88\n",
      "89\n",
      "90\n",
      "91\n",
      "92\n",
      "93\n",
      "94\n",
      "95\n",
      "96\n",
      "97\n",
      "98\n",
      "99\n",
      "100\n",
      "101\n",
      "102\n",
      "103\n",
      "104\n",
      "105\n",
      "106\n",
      "107\n",
      "108\n",
      "109\n",
      "110\n",
      "111\n",
      "112\n",
      "113\n",
      "114\n",
      "115\n",
      "116\n",
      "117\n",
      "118\n",
      "119\n",
      "120\n",
      "121\n",
      "122\n",
      "123\n",
      "124\n",
      "125\n",
      "126\n",
      "127\n",
      "128\n",
      "129\n",
      "130\n",
      "131\n",
      "132\n",
      "133\n",
      "134\n",
      "135\n",
      "136\n",
      "137\n",
      "138\n",
      "139\n",
      "140\n",
      "141\n",
      "142\n",
      "143\n",
      "144\n",
      "145\n",
      "146\n",
      "147\n",
      "148\n",
      "149\n",
      "150\n",
      "151\n",
      "152\n",
      "153\n",
      "154\n",
      "155\n",
      "156\n",
      "157\n",
      "158\n",
      "159\n",
      "160\n",
      "161\n",
      "162\n",
      "163\n",
      "164\n",
      "165\n",
      "166\n",
      "167\n",
      "168\n",
      "169\n",
      "170\n",
      "171\n",
      "172\n",
      "173\n",
      "174\n",
      "175\n",
      "176\n",
      "177\n",
      "178\n",
      "179\n",
      "180\n",
      "181\n",
      "182\n",
      "183\n",
      "184\n",
      "185\n",
      "186\n",
      "187\n",
      "188\n",
      "189\n",
      "190\n",
      "191\n",
      "192\n",
      "193\n",
      "194\n",
      "195\n",
      "196\n",
      "197\n",
      "198\n",
      "199\n",
      "200\n",
      "201\n",
      "202\n",
      "203\n",
      "204\n",
      "205\n",
      "206\n",
      "207\n",
      "208\n",
      "209\n",
      "210\n",
      "211\n",
      "212\n",
      "213\n",
      "214\n",
      "215\n",
      "216\n",
      "217\n",
      "218\n",
      "219\n",
      "220\n",
      "221\n",
      "222\n",
      "223\n",
      "224\n",
      "225\n",
      "226\n",
      "227\n",
      "228\n",
      "229\n",
      "230\n",
      "231\n",
      "232\n",
      "233\n",
      "234\n",
      "235\n",
      "236\n",
      "237\n",
      "238\n",
      "239\n",
      "240\n",
      "241\n",
      "242\n",
      "243\n",
      "244\n",
      "245\n",
      "246\n",
      "247\n",
      "248\n",
      "249\n",
      "250\n"
     ]
    }
   ],
   "source": [
    "i=0\n",
    "for serie in series_list:\n",
    "    i+=1\n",
    "    # print(re.sub('[^A-Za-z0-9]+', '', serie.get('titulo')))\n",
    "    with open(f\"jsons/{re.sub('[^A-Za-z0-9]+', '', serie.get('titulo'))}.json\", \"w\", encoding=\"utf-8\") as arquivo:\n",
    "        print(i)\n",
    "        json.dump(serie, arquivo, ensure_ascii=False, indent=4)"
   ]
  },
  {
   "cell_type": "code",
   "execution_count": 23,
   "metadata": {},
   "outputs": [
    {
     "name": "stdout",
     "output_type": "stream",
     "text": [
      "/Users/elainelosch/repositories/cpa-webscrapping/t2\n"
     ]
    }
   ],
   "source": [
    "!pwd"
   ]
  },
  {
   "cell_type": "code",
   "execution_count": 32,
   "metadata": {},
   "outputs": [],
   "source": [
    "existe  = str(os.listdir(\"jsons\"))\n",
    "for serie in series_list:\n",
    "    if f\"{re.sub('[^A-Za-z0-9]+', '', serie.get('titulo'))}.json\" not in existe:\n",
    "        print(serie.get(\"titulo\"))\n",
    "    # print(serie.get(\"titulo\"))\n"
   ]
  },
  {
   "cell_type": "code",
   "execution_count": 29,
   "metadata": {},
   "outputs": [
    {
     "data": {
      "text/plain": [
       "250"
      ]
     },
     "execution_count": 29,
     "metadata": {},
     "output_type": "execute_result"
    }
   ],
   "source": [
    "len(series_list)"
   ]
  },
  {
   "cell_type": "code",
   "execution_count": null,
   "metadata": {},
   "outputs": [],
   "source": [
    "driver.quit()"
   ]
  }
 ],
 "metadata": {
  "kernelspec": {
   "display_name": "cpa",
   "language": "python",
   "name": "python3"
  },
  "language_info": {
   "codemirror_mode": {
    "name": "ipython",
    "version": 3
   },
   "file_extension": ".py",
   "mimetype": "text/x-python",
   "name": "python",
   "nbconvert_exporter": "python",
   "pygments_lexer": "ipython3",
   "version": "3.13.2"
  }
 },
 "nbformat": 4,
 "nbformat_minor": 2
}
