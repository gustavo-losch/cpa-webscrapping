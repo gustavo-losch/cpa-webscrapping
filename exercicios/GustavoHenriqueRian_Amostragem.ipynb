{
 "cells": [
  {
   "cell_type": "code",
   "execution_count": 26,
   "id": "6f16f1ae",
   "metadata": {},
   "outputs": [],
   "source": [
    "import pandas as pd\n",
    "import numpy as np\n",
    "import random\n",
    "df = pd.read_csv(\"alugueis.csv\")"
   ]
  },
  {
   "cell_type": "markdown",
   "id": "77d9d729",
   "metadata": {},
   "source": [
    "Integrantes do Grupo:\n",
    "- Gustavo Losch do Amaral\n",
    "- Henrique Ramos Mayer\n",
    "- Rian Cordoni da Veiga"
   ]
  },
  {
   "cell_type": "markdown",
   "id": "5a65c3d3",
   "metadata": {},
   "source": [
    "#### Exercício Avaliativo\n",
    "• (Amostragem) Escreva o corpo da função mostrada abaixo:\n",
    "`amostragem_aleatória(dataframe, amostras, reposicao=True)`\n",
    "\n",
    "\n",
    "Essa função recebe três parâmetros:\n",
    "- dataframe = pandas contendo os dados\n",
    "- amostras = número de amostras desejadas\n",
    "- reposicao = amostragem com ou sem reposição\n",
    "\n",
    "\n",
    "Essa função deve retornar um dataframe com o número exato de\n",
    "amostras"
   ]
  },
  {
   "cell_type": "code",
   "execution_count": 27,
   "id": "5aee5c54",
   "metadata": {},
   "outputs": [],
   "source": [
    "def amostragem_aleatoria(dataframe, amostras, reposicao):\n",
    "    sampled = pd.DataFrame(columns=dataframe.columns.values)\n",
    "    visitados = set()\n",
    "    for i in range(0, amostras):\n",
    "        while True:\n",
    "            index = random.randint(0, len(dataframe))\n",
    "            if index not in visitados and not reposicao:\n",
    "                visitados.add(index)\n",
    "                break\n",
    "            elif reposicao:\n",
    "                break\n",
    "        sampled.loc[len(sampled)] = dataframe.iloc[index]\n",
    "    return sampled"
   ]
  },
  {
   "cell_type": "markdown",
   "id": "ed995d96",
   "metadata": {},
   "source": [
    "• (Amostragem) Escreva uma função com a assinatura mostrada abaixo:\n",
    "`amostragem_estratificada(dataframe, amostras, coluna)`\n",
    "\n",
    "\n",
    "Essa função recebe três parâmetros:\n",
    "- dataframe = pandas contendo os dados\n",
    "- amostras = número de amostras desejadas\n",
    "- coluna = nome de uma coluna do dataset\n",
    "\n",
    "\n",
    "Essa função deve retornar um dataframe com o número exato de\n",
    "amostras, mantendo a proporção de valores da coluna escolhida\n",
    "presente no dataframe original."
   ]
  },
  {
   "cell_type": "code",
   "execution_count": 28,
   "id": "da1a9a88",
   "metadata": {},
   "outputs": [],
   "source": [
    "def amostragem_estratificada(dataframe, amostras, coluna):\n",
    "    pass"
   ]
  },
  {
   "cell_type": "markdown",
   "id": "0a2a777b",
   "metadata": {},
   "source": [
    "--- "
   ]
  },
  {
   "cell_type": "markdown",
   "id": "f2ffb87c",
   "metadata": {},
   "source": [
    "Usando o dataset “alugueis” fornecido, realize testes nas funções\n",
    "desenvolvidas:\n",
    "1. Crie um dataset com apenas 100 amostras\n",
    "2. Crie outro dataset com 200 amostras, preservando a proporção de imóveis\n",
    "em cada cidade\n",
    "- Faça a discretização do atributo área do imóvel em três categorias:\n",
    "1. “PEQUENO” = até 50m2\n",
    "2. “MÉDIO” = 50 até 100m2\n",
    "3. “GRANDE” = > 100m2\n",
    "- Divida o atributo total em 5 categorias e utilize one-hot encoding para\n",
    "discretizá-lo"
   ]
  },
  {
   "cell_type": "code",
   "execution_count": 52,
   "id": "daf800ee",
   "metadata": {},
   "outputs": [
    {
     "name": "stdout",
     "output_type": "stream",
     "text": [
      "Tamanho da amostra: 100\n",
      "Com reposicao=False têm-se 100 linhas únicas.\n"
     ]
    }
   ],
   "source": [
    "reposicao = False\n",
    "sampled = amostragem_aleatoria(df, 100, reposicao)\n",
    "\n",
    "\n",
    "print(\"Tamanho da amostra:\", len(sampled))\n",
    "print(f\"Com reposicao={reposicao} têm-se {len(sampled.drop_duplicates(inplace=False))} linhas únicas.\")\n"
   ]
  }
 ],
 "metadata": {
  "kernelspec": {
   "display_name": "cpa",
   "language": "python",
   "name": "python3"
  },
  "language_info": {
   "codemirror_mode": {
    "name": "ipython",
    "version": 3
   },
   "file_extension": ".py",
   "mimetype": "text/x-python",
   "name": "python",
   "nbconvert_exporter": "python",
   "pygments_lexer": "ipython3",
   "version": "3.13.2"
  }
 },
 "nbformat": 4,
 "nbformat_minor": 5
}
