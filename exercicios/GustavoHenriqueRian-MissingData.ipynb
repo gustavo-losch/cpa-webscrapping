{
 "cells": [
  {
   "cell_type": "markdown",
   "id": "b07cd7fb",
   "metadata": {},
   "source": [
    "Grupo:\n",
    "\n",
    "- Gustavo Losch do Amaral\n",
    "- Henrique Ramos Mayer\n",
    "- Rian Cordoni da Veiga"
   ]
  },
  {
   "attachments": {},
   "cell_type": "markdown",
   "id": "b3a39ef8-738f-4324-9ed6-9651dae8b230",
   "metadata": {},
   "source": [
    "# Lidando com Valores Ausentes na biblioteca pandas\n",
    "\n",
    "**Valores Ausentes** ocorrem quando não foram informados valores para certas variáveis em um dataset. É comum ocorrer quando utilizamos dados reais.\n",
    "\n",
    "O que é um valor ausente para o Pandas?\n",
    "* None (Nativo do Python)\n",
    "* NaN (Not a Number): constante da biblioteca Numpy\n",
    "\n",
    "Neste notebook vamos aprender algumas maneiras de lidar com valores ausentes.\n",
    "\n",
    "Link para a documentação do Pandas sobre missing data: https://pandas.pydata.org/docs/user_guide/missing_data.html"
   ]
  },
  {
   "cell_type": "markdown",
   "id": "e6aa9c95-cd95-4763-9405-e6d15553b726",
   "metadata": {},
   "source": [
    "## Instalação e Importação da biblioteca pandas"
   ]
  },
  {
   "cell_type": "markdown",
   "id": "56edc258-a9b6-459f-8d1c-893b645ff86d",
   "metadata": {},
   "source": [
    "Antes de rodar este notebook, garanta que a biblioteca abaixo estejam instaladas em seu ambiente:"
   ]
  },
  {
   "cell_type": "code",
   "execution_count": 2,
   "id": "ea3c90a0-18d6-4af5-ae0d-f1878e3f3fb1",
   "metadata": {},
   "outputs": [],
   "source": [
    "import pandas as pd\n",
    "import seaborn as sns"
   ]
  },
  {
   "cell_type": "markdown",
   "id": "76298f34-dd89-488e-ac9c-0cb4bf733e80",
   "metadata": {},
   "source": [
    "## Criação do dataframe e análise inicial dos dados"
   ]
  },
  {
   "cell_type": "markdown",
   "id": "5e8858f3-1441-4337-b315-a76191e9842e",
   "metadata": {},
   "source": [
    "Nosso dataset de testes será o `titanic.csv`, um dataset bastante famoso em ciência de dados. Esse dataset contém as seguintes informações sobre os passageiros do Titanic:\n",
    "\n",
    "* `PassengerId` = ID do passageiro do navio (chave primária).\n",
    "* `Pclass\t` = Tipo de classe de passagem (valor numérico entre 1 e 3), sendo 1 a melhor classe e 3 a pior classe.\n",
    "* `Name` = Nome do passageiro\n",
    "* `Sex` = Gênero do passageiro, com valores male/female.\n",
    "* `Age` = Idade do passageiro na data da ocorrência do naufrágio (em anos).\n",
    "* `SibSp` = Número de irmãos / cônjuges a bordo.\n",
    "* `Parch` = Número de pais / filhos a bordo.\n",
    "* `Ticket` = Número do ticket.\n",
    "* `Fare` = Valor da passagem.\n",
    "* `Cabin` = Código de identificação da Cabine.\n",
    "* `Embarked` = Porto ondem o passageiro embarcou no navio. (C = Cherbourg, Q = Queenstown, S = Southampton)\n",
    "* `survived` = Se sobreviveu ao naufrágio estará como 1 e caso esteja com 0 (zero) não sobreviveu.\n"
   ]
  },
  {
   "cell_type": "code",
   "execution_count": 3,
   "id": "c380dde5-e624-48d8-8767-77850c8f5502",
   "metadata": {},
   "outputs": [
    {
     "data": {
      "application/vnd.microsoft.datawrangler.viewer.v0+json": {
       "columns": [
        {
         "name": "index",
         "rawType": "int64",
         "type": "integer"
        },
        {
         "name": "PassengerId",
         "rawType": "int64",
         "type": "integer"
        },
        {
         "name": "Survived",
         "rawType": "int64",
         "type": "integer"
        },
        {
         "name": "Pclass",
         "rawType": "int64",
         "type": "integer"
        },
        {
         "name": "Name",
         "rawType": "object",
         "type": "string"
        },
        {
         "name": "Sex",
         "rawType": "object",
         "type": "string"
        },
        {
         "name": "Age",
         "rawType": "float64",
         "type": "float"
        },
        {
         "name": "SibSp",
         "rawType": "int64",
         "type": "integer"
        },
        {
         "name": "Parch",
         "rawType": "int64",
         "type": "integer"
        },
        {
         "name": "Ticket",
         "rawType": "object",
         "type": "string"
        },
        {
         "name": "Fare",
         "rawType": "float64",
         "type": "float"
        },
        {
         "name": "Cabin",
         "rawType": "object",
         "type": "unknown"
        },
        {
         "name": "Embarked",
         "rawType": "object",
         "type": "string"
        }
       ],
       "ref": "07bc48d0-0074-4b85-bdbd-7bff2716857a",
       "rows": [
        [
         "0",
         "1",
         "0",
         "3",
         "Braund, Mr. Owen Harris",
         "male",
         "22.0",
         "1",
         "0",
         "A/5 21171",
         "7.25",
         null,
         "S"
        ],
        [
         "1",
         "2",
         "1",
         "1",
         "Cumings, Mrs. John Bradley (Florence Briggs Thayer)",
         "female",
         "38.0",
         "1",
         "0",
         "PC 17599",
         "71.2833",
         "C85",
         "C"
        ],
        [
         "2",
         "3",
         "1",
         "3",
         "Heikkinen, Miss. Laina",
         "female",
         "26.0",
         "0",
         "0",
         "STON/O2. 3101282",
         "7.925",
         null,
         "S"
        ],
        [
         "3",
         "4",
         "1",
         "1",
         "Futrelle, Mrs. Jacques Heath (Lily May Peel)",
         "female",
         "35.0",
         "1",
         "0",
         "113803",
         "53.1",
         "C123",
         "S"
        ],
        [
         "4",
         "5",
         "0",
         "3",
         "Allen, Mr. William Henry",
         "male",
         "35.0",
         "0",
         "0",
         "373450",
         "8.05",
         null,
         "S"
        ]
       ],
       "shape": {
        "columns": 12,
        "rows": 5
       }
      },
      "text/html": [
       "<div>\n",
       "<style scoped>\n",
       "    .dataframe tbody tr th:only-of-type {\n",
       "        vertical-align: middle;\n",
       "    }\n",
       "\n",
       "    .dataframe tbody tr th {\n",
       "        vertical-align: top;\n",
       "    }\n",
       "\n",
       "    .dataframe thead th {\n",
       "        text-align: right;\n",
       "    }\n",
       "</style>\n",
       "<table border=\"1\" class=\"dataframe\">\n",
       "  <thead>\n",
       "    <tr style=\"text-align: right;\">\n",
       "      <th></th>\n",
       "      <th>PassengerId</th>\n",
       "      <th>Survived</th>\n",
       "      <th>Pclass</th>\n",
       "      <th>Name</th>\n",
       "      <th>Sex</th>\n",
       "      <th>Age</th>\n",
       "      <th>SibSp</th>\n",
       "      <th>Parch</th>\n",
       "      <th>Ticket</th>\n",
       "      <th>Fare</th>\n",
       "      <th>Cabin</th>\n",
       "      <th>Embarked</th>\n",
       "    </tr>\n",
       "  </thead>\n",
       "  <tbody>\n",
       "    <tr>\n",
       "      <th>0</th>\n",
       "      <td>1</td>\n",
       "      <td>0</td>\n",
       "      <td>3</td>\n",
       "      <td>Braund, Mr. Owen Harris</td>\n",
       "      <td>male</td>\n",
       "      <td>22.0</td>\n",
       "      <td>1</td>\n",
       "      <td>0</td>\n",
       "      <td>A/5 21171</td>\n",
       "      <td>7.2500</td>\n",
       "      <td>NaN</td>\n",
       "      <td>S</td>\n",
       "    </tr>\n",
       "    <tr>\n",
       "      <th>1</th>\n",
       "      <td>2</td>\n",
       "      <td>1</td>\n",
       "      <td>1</td>\n",
       "      <td>Cumings, Mrs. John Bradley (Florence Briggs Th...</td>\n",
       "      <td>female</td>\n",
       "      <td>38.0</td>\n",
       "      <td>1</td>\n",
       "      <td>0</td>\n",
       "      <td>PC 17599</td>\n",
       "      <td>71.2833</td>\n",
       "      <td>C85</td>\n",
       "      <td>C</td>\n",
       "    </tr>\n",
       "    <tr>\n",
       "      <th>2</th>\n",
       "      <td>3</td>\n",
       "      <td>1</td>\n",
       "      <td>3</td>\n",
       "      <td>Heikkinen, Miss. Laina</td>\n",
       "      <td>female</td>\n",
       "      <td>26.0</td>\n",
       "      <td>0</td>\n",
       "      <td>0</td>\n",
       "      <td>STON/O2. 3101282</td>\n",
       "      <td>7.9250</td>\n",
       "      <td>NaN</td>\n",
       "      <td>S</td>\n",
       "    </tr>\n",
       "    <tr>\n",
       "      <th>3</th>\n",
       "      <td>4</td>\n",
       "      <td>1</td>\n",
       "      <td>1</td>\n",
       "      <td>Futrelle, Mrs. Jacques Heath (Lily May Peel)</td>\n",
       "      <td>female</td>\n",
       "      <td>35.0</td>\n",
       "      <td>1</td>\n",
       "      <td>0</td>\n",
       "      <td>113803</td>\n",
       "      <td>53.1000</td>\n",
       "      <td>C123</td>\n",
       "      <td>S</td>\n",
       "    </tr>\n",
       "    <tr>\n",
       "      <th>4</th>\n",
       "      <td>5</td>\n",
       "      <td>0</td>\n",
       "      <td>3</td>\n",
       "      <td>Allen, Mr. William Henry</td>\n",
       "      <td>male</td>\n",
       "      <td>35.0</td>\n",
       "      <td>0</td>\n",
       "      <td>0</td>\n",
       "      <td>373450</td>\n",
       "      <td>8.0500</td>\n",
       "      <td>NaN</td>\n",
       "      <td>S</td>\n",
       "    </tr>\n",
       "  </tbody>\n",
       "</table>\n",
       "</div>"
      ],
      "text/plain": [
       "   PassengerId  Survived  Pclass  \\\n",
       "0            1         0       3   \n",
       "1            2         1       1   \n",
       "2            3         1       3   \n",
       "3            4         1       1   \n",
       "4            5         0       3   \n",
       "\n",
       "                                                Name     Sex   Age  SibSp  \\\n",
       "0                            Braund, Mr. Owen Harris    male  22.0      1   \n",
       "1  Cumings, Mrs. John Bradley (Florence Briggs Th...  female  38.0      1   \n",
       "2                             Heikkinen, Miss. Laina  female  26.0      0   \n",
       "3       Futrelle, Mrs. Jacques Heath (Lily May Peel)  female  35.0      1   \n",
       "4                           Allen, Mr. William Henry    male  35.0      0   \n",
       "\n",
       "   Parch            Ticket     Fare Cabin Embarked  \n",
       "0      0         A/5 21171   7.2500   NaN        S  \n",
       "1      0          PC 17599  71.2833   C85        C  \n",
       "2      0  STON/O2. 3101282   7.9250   NaN        S  \n",
       "3      0            113803  53.1000  C123        S  \n",
       "4      0            373450   8.0500   NaN        S  "
      ]
     },
     "execution_count": 3,
     "metadata": {},
     "output_type": "execute_result"
    }
   ],
   "source": [
    "# Carrega o dataset\n",
    "dados = pd.read_csv('titanic.csv')\n",
    "\n",
    "# Exibe as primeiras linhas do dataset\n",
    "dados.head()"
   ]
  },
  {
   "cell_type": "code",
   "execution_count": 4,
   "id": "3bc9e8aa-9f7e-4345-b7d1-ca16554fd710",
   "metadata": {},
   "outputs": [
    {
     "data": {
      "application/vnd.microsoft.datawrangler.viewer.v0+json": {
       "columns": [
        {
         "name": "index",
         "rawType": "int64",
         "type": "integer"
        },
        {
         "name": "PassengerId",
         "rawType": "int64",
         "type": "integer"
        },
        {
         "name": "Survived",
         "rawType": "int64",
         "type": "integer"
        },
        {
         "name": "Pclass",
         "rawType": "int64",
         "type": "integer"
        },
        {
         "name": "Name",
         "rawType": "object",
         "type": "string"
        },
        {
         "name": "Sex",
         "rawType": "object",
         "type": "string"
        },
        {
         "name": "Age",
         "rawType": "float64",
         "type": "float"
        },
        {
         "name": "SibSp",
         "rawType": "int64",
         "type": "integer"
        },
        {
         "name": "Parch",
         "rawType": "int64",
         "type": "integer"
        },
        {
         "name": "Ticket",
         "rawType": "object",
         "type": "string"
        },
        {
         "name": "Fare",
         "rawType": "float64",
         "type": "float"
        },
        {
         "name": "Cabin",
         "rawType": "object",
         "type": "unknown"
        },
        {
         "name": "Embarked",
         "rawType": "object",
         "type": "string"
        }
       ],
       "ref": "4922ba42-4a6c-4316-bb15-0fe2d73aa0ee",
       "rows": [
        [
         "124",
         "125",
         "0",
         "1",
         "White, Mr. Percival Wayland",
         "male",
         "54.0",
         "0",
         "1",
         "35281",
         "77.2875",
         "D26",
         "S"
        ],
        [
         "696",
         "697",
         "0",
         "3",
         "Kelly, Mr. James",
         "male",
         "44.0",
         "0",
         "0",
         "363592",
         "8.05",
         null,
         "S"
        ],
        [
         "616",
         "617",
         "0",
         "3",
         "Danbom, Mr. Ernst Gilbert",
         "male",
         "34.0",
         "1",
         "1",
         "347080",
         "14.4",
         null,
         "S"
        ],
        [
         "590",
         "591",
         "0",
         "3",
         "Rintamaki, Mr. Matti",
         "male",
         "35.0",
         "0",
         "0",
         "STON/O 2. 3101273",
         "7.125",
         null,
         "S"
        ],
        [
         "252",
         "253",
         "0",
         "1",
         "Stead, Mr. William Thomas",
         "male",
         "62.0",
         "0",
         "0",
         "113514",
         "26.55",
         "C87",
         "S"
        ]
       ],
       "shape": {
        "columns": 12,
        "rows": 5
       }
      },
      "text/html": [
       "<div>\n",
       "<style scoped>\n",
       "    .dataframe tbody tr th:only-of-type {\n",
       "        vertical-align: middle;\n",
       "    }\n",
       "\n",
       "    .dataframe tbody tr th {\n",
       "        vertical-align: top;\n",
       "    }\n",
       "\n",
       "    .dataframe thead th {\n",
       "        text-align: right;\n",
       "    }\n",
       "</style>\n",
       "<table border=\"1\" class=\"dataframe\">\n",
       "  <thead>\n",
       "    <tr style=\"text-align: right;\">\n",
       "      <th></th>\n",
       "      <th>PassengerId</th>\n",
       "      <th>Survived</th>\n",
       "      <th>Pclass</th>\n",
       "      <th>Name</th>\n",
       "      <th>Sex</th>\n",
       "      <th>Age</th>\n",
       "      <th>SibSp</th>\n",
       "      <th>Parch</th>\n",
       "      <th>Ticket</th>\n",
       "      <th>Fare</th>\n",
       "      <th>Cabin</th>\n",
       "      <th>Embarked</th>\n",
       "    </tr>\n",
       "  </thead>\n",
       "  <tbody>\n",
       "    <tr>\n",
       "      <th>124</th>\n",
       "      <td>125</td>\n",
       "      <td>0</td>\n",
       "      <td>1</td>\n",
       "      <td>White, Mr. Percival Wayland</td>\n",
       "      <td>male</td>\n",
       "      <td>54.0</td>\n",
       "      <td>0</td>\n",
       "      <td>1</td>\n",
       "      <td>35281</td>\n",
       "      <td>77.2875</td>\n",
       "      <td>D26</td>\n",
       "      <td>S</td>\n",
       "    </tr>\n",
       "    <tr>\n",
       "      <th>696</th>\n",
       "      <td>697</td>\n",
       "      <td>0</td>\n",
       "      <td>3</td>\n",
       "      <td>Kelly, Mr. James</td>\n",
       "      <td>male</td>\n",
       "      <td>44.0</td>\n",
       "      <td>0</td>\n",
       "      <td>0</td>\n",
       "      <td>363592</td>\n",
       "      <td>8.0500</td>\n",
       "      <td>NaN</td>\n",
       "      <td>S</td>\n",
       "    </tr>\n",
       "    <tr>\n",
       "      <th>616</th>\n",
       "      <td>617</td>\n",
       "      <td>0</td>\n",
       "      <td>3</td>\n",
       "      <td>Danbom, Mr. Ernst Gilbert</td>\n",
       "      <td>male</td>\n",
       "      <td>34.0</td>\n",
       "      <td>1</td>\n",
       "      <td>1</td>\n",
       "      <td>347080</td>\n",
       "      <td>14.4000</td>\n",
       "      <td>NaN</td>\n",
       "      <td>S</td>\n",
       "    </tr>\n",
       "    <tr>\n",
       "      <th>590</th>\n",
       "      <td>591</td>\n",
       "      <td>0</td>\n",
       "      <td>3</td>\n",
       "      <td>Rintamaki, Mr. Matti</td>\n",
       "      <td>male</td>\n",
       "      <td>35.0</td>\n",
       "      <td>0</td>\n",
       "      <td>0</td>\n",
       "      <td>STON/O 2. 3101273</td>\n",
       "      <td>7.1250</td>\n",
       "      <td>NaN</td>\n",
       "      <td>S</td>\n",
       "    </tr>\n",
       "    <tr>\n",
       "      <th>252</th>\n",
       "      <td>253</td>\n",
       "      <td>0</td>\n",
       "      <td>1</td>\n",
       "      <td>Stead, Mr. William Thomas</td>\n",
       "      <td>male</td>\n",
       "      <td>62.0</td>\n",
       "      <td>0</td>\n",
       "      <td>0</td>\n",
       "      <td>113514</td>\n",
       "      <td>26.5500</td>\n",
       "      <td>C87</td>\n",
       "      <td>S</td>\n",
       "    </tr>\n",
       "  </tbody>\n",
       "</table>\n",
       "</div>"
      ],
      "text/plain": [
       "     PassengerId  Survived  Pclass                         Name   Sex   Age  \\\n",
       "124          125         0       1  White, Mr. Percival Wayland  male  54.0   \n",
       "696          697         0       3             Kelly, Mr. James  male  44.0   \n",
       "616          617         0       3    Danbom, Mr. Ernst Gilbert  male  34.0   \n",
       "590          591         0       3         Rintamaki, Mr. Matti  male  35.0   \n",
       "252          253         0       1    Stead, Mr. William Thomas  male  62.0   \n",
       "\n",
       "     SibSp  Parch             Ticket     Fare Cabin Embarked  \n",
       "124      0      1              35281  77.2875   D26        S  \n",
       "696      0      0             363592   8.0500   NaN        S  \n",
       "616      1      1             347080  14.4000   NaN        S  \n",
       "590      0      0  STON/O 2. 3101273   7.1250   NaN        S  \n",
       "252      0      0             113514  26.5500   C87        S  "
      ]
     },
     "execution_count": 4,
     "metadata": {},
     "output_type": "execute_result"
    }
   ],
   "source": [
    "# Outra forma de observar os dados do dataset é com a função sample\n",
    "dados.sample(5)"
   ]
  },
  {
   "cell_type": "markdown",
   "id": "b6681fab-3261-427e-a792-01331ed31937",
   "metadata": {},
   "source": [
    "Podemos obter algumas estatísticas sobre os dados usando a função `describe`"
   ]
  },
  {
   "cell_type": "code",
   "execution_count": 5,
   "id": "316866d3-685a-4daf-96a9-5b3908350b0a",
   "metadata": {},
   "outputs": [
    {
     "data": {
      "application/vnd.microsoft.datawrangler.viewer.v0+json": {
       "columns": [
        {
         "name": "index",
         "rawType": "object",
         "type": "string"
        },
        {
         "name": "PassengerId",
         "rawType": "float64",
         "type": "float"
        },
        {
         "name": "Survived",
         "rawType": "float64",
         "type": "float"
        },
        {
         "name": "Pclass",
         "rawType": "float64",
         "type": "float"
        },
        {
         "name": "Age",
         "rawType": "float64",
         "type": "float"
        },
        {
         "name": "SibSp",
         "rawType": "float64",
         "type": "float"
        },
        {
         "name": "Parch",
         "rawType": "float64",
         "type": "float"
        },
        {
         "name": "Fare",
         "rawType": "float64",
         "type": "float"
        }
       ],
       "ref": "d1c0dde4-e024-4b70-bc5c-8944cf127061",
       "rows": [
        [
         "count",
         "891.0",
         "891.0",
         "891.0",
         "714.0",
         "891.0",
         "891.0",
         "891.0"
        ],
        [
         "mean",
         "446.0",
         "0.3838383838383838",
         "2.308641975308642",
         "29.69911764705882",
         "0.5230078563411896",
         "0.38159371492704824",
         "32.204207968574636"
        ],
        [
         "std",
         "257.3538420152301",
         "0.4865924542648575",
         "0.836071240977049",
         "14.526497332334042",
         "1.1027434322934317",
         "0.8060572211299483",
         "49.6934285971809"
        ],
        [
         "min",
         "1.0",
         "0.0",
         "1.0",
         "0.42",
         "0.0",
         "0.0",
         "0.0"
        ],
        [
         "25%",
         "223.5",
         "0.0",
         "2.0",
         "20.125",
         "0.0",
         "0.0",
         "7.9104"
        ],
        [
         "50%",
         "446.0",
         "0.0",
         "3.0",
         "28.0",
         "0.0",
         "0.0",
         "14.4542"
        ],
        [
         "75%",
         "668.5",
         "1.0",
         "3.0",
         "38.0",
         "1.0",
         "0.0",
         "31.0"
        ],
        [
         "max",
         "891.0",
         "1.0",
         "3.0",
         "80.0",
         "8.0",
         "6.0",
         "512.3292"
        ]
       ],
       "shape": {
        "columns": 7,
        "rows": 8
       }
      },
      "text/html": [
       "<div>\n",
       "<style scoped>\n",
       "    .dataframe tbody tr th:only-of-type {\n",
       "        vertical-align: middle;\n",
       "    }\n",
       "\n",
       "    .dataframe tbody tr th {\n",
       "        vertical-align: top;\n",
       "    }\n",
       "\n",
       "    .dataframe thead th {\n",
       "        text-align: right;\n",
       "    }\n",
       "</style>\n",
       "<table border=\"1\" class=\"dataframe\">\n",
       "  <thead>\n",
       "    <tr style=\"text-align: right;\">\n",
       "      <th></th>\n",
       "      <th>PassengerId</th>\n",
       "      <th>Survived</th>\n",
       "      <th>Pclass</th>\n",
       "      <th>Age</th>\n",
       "      <th>SibSp</th>\n",
       "      <th>Parch</th>\n",
       "      <th>Fare</th>\n",
       "    </tr>\n",
       "  </thead>\n",
       "  <tbody>\n",
       "    <tr>\n",
       "      <th>count</th>\n",
       "      <td>891.000000</td>\n",
       "      <td>891.000000</td>\n",
       "      <td>891.000000</td>\n",
       "      <td>714.000000</td>\n",
       "      <td>891.000000</td>\n",
       "      <td>891.000000</td>\n",
       "      <td>891.000000</td>\n",
       "    </tr>\n",
       "    <tr>\n",
       "      <th>mean</th>\n",
       "      <td>446.000000</td>\n",
       "      <td>0.383838</td>\n",
       "      <td>2.308642</td>\n",
       "      <td>29.699118</td>\n",
       "      <td>0.523008</td>\n",
       "      <td>0.381594</td>\n",
       "      <td>32.204208</td>\n",
       "    </tr>\n",
       "    <tr>\n",
       "      <th>std</th>\n",
       "      <td>257.353842</td>\n",
       "      <td>0.486592</td>\n",
       "      <td>0.836071</td>\n",
       "      <td>14.526497</td>\n",
       "      <td>1.102743</td>\n",
       "      <td>0.806057</td>\n",
       "      <td>49.693429</td>\n",
       "    </tr>\n",
       "    <tr>\n",
       "      <th>min</th>\n",
       "      <td>1.000000</td>\n",
       "      <td>0.000000</td>\n",
       "      <td>1.000000</td>\n",
       "      <td>0.420000</td>\n",
       "      <td>0.000000</td>\n",
       "      <td>0.000000</td>\n",
       "      <td>0.000000</td>\n",
       "    </tr>\n",
       "    <tr>\n",
       "      <th>25%</th>\n",
       "      <td>223.500000</td>\n",
       "      <td>0.000000</td>\n",
       "      <td>2.000000</td>\n",
       "      <td>20.125000</td>\n",
       "      <td>0.000000</td>\n",
       "      <td>0.000000</td>\n",
       "      <td>7.910400</td>\n",
       "    </tr>\n",
       "    <tr>\n",
       "      <th>50%</th>\n",
       "      <td>446.000000</td>\n",
       "      <td>0.000000</td>\n",
       "      <td>3.000000</td>\n",
       "      <td>28.000000</td>\n",
       "      <td>0.000000</td>\n",
       "      <td>0.000000</td>\n",
       "      <td>14.454200</td>\n",
       "    </tr>\n",
       "    <tr>\n",
       "      <th>75%</th>\n",
       "      <td>668.500000</td>\n",
       "      <td>1.000000</td>\n",
       "      <td>3.000000</td>\n",
       "      <td>38.000000</td>\n",
       "      <td>1.000000</td>\n",
       "      <td>0.000000</td>\n",
       "      <td>31.000000</td>\n",
       "    </tr>\n",
       "    <tr>\n",
       "      <th>max</th>\n",
       "      <td>891.000000</td>\n",
       "      <td>1.000000</td>\n",
       "      <td>3.000000</td>\n",
       "      <td>80.000000</td>\n",
       "      <td>8.000000</td>\n",
       "      <td>6.000000</td>\n",
       "      <td>512.329200</td>\n",
       "    </tr>\n",
       "  </tbody>\n",
       "</table>\n",
       "</div>"
      ],
      "text/plain": [
       "       PassengerId    Survived      Pclass         Age       SibSp  \\\n",
       "count   891.000000  891.000000  891.000000  714.000000  891.000000   \n",
       "mean    446.000000    0.383838    2.308642   29.699118    0.523008   \n",
       "std     257.353842    0.486592    0.836071   14.526497    1.102743   \n",
       "min       1.000000    0.000000    1.000000    0.420000    0.000000   \n",
       "25%     223.500000    0.000000    2.000000   20.125000    0.000000   \n",
       "50%     446.000000    0.000000    3.000000   28.000000    0.000000   \n",
       "75%     668.500000    1.000000    3.000000   38.000000    1.000000   \n",
       "max     891.000000    1.000000    3.000000   80.000000    8.000000   \n",
       "\n",
       "            Parch        Fare  \n",
       "count  891.000000  891.000000  \n",
       "mean     0.381594   32.204208  \n",
       "std      0.806057   49.693429  \n",
       "min      0.000000    0.000000  \n",
       "25%      0.000000    7.910400  \n",
       "50%      0.000000   14.454200  \n",
       "75%      0.000000   31.000000  \n",
       "max      6.000000  512.329200  "
      ]
     },
     "execution_count": 5,
     "metadata": {},
     "output_type": "execute_result"
    }
   ],
   "source": [
    "dados.describe()"
   ]
  },
  {
   "cell_type": "markdown",
   "id": "4f128beb-86d9-4317-bbf1-d94262b7182a",
   "metadata": {},
   "source": [
    "**Exercício 1**: Com a execução da célula anterior, podemos notar que o atributo `Age` possui um valor máximo de 80. Esse valor pode ser considerado um outlier? Como você poderia justificar sua afirmação (com base no dataset e com base em informações externas)?"
   ]
  },
  {
   "cell_type": "markdown",
   "id": "dbde2eff-aa95-4426-917e-aee49f7cbbf1",
   "metadata": {},
   "source": [
    "## Identificando valores ausentes"
   ]
  },
  {
   "cell_type": "code",
   "execution_count": 6,
   "id": "5884ddae",
   "metadata": {},
   "outputs": [
    {
     "data": {
      "text/plain": [
       "<Axes: ylabel='Age'>"
      ]
     },
     "execution_count": 6,
     "metadata": {},
     "output_type": "execute_result"
    },
    {
     "data": {
      "image/png": "[encoded data removed]",
      "text/plain": [
       "<Figure size 640x480 with 1 Axes>"
      ]
     },
     "metadata": {},
     "output_type": "display_data"
    }
   ],
   "source": [
    "import seaborn as sns\n",
    "\n",
    "sns.boxplot(data=dados['Age'])"
   ]
  },
  {
   "cell_type": "markdown",
   "id": "6ccd8caf",
   "metadata": {},
   "source": [
    "**Resposta do Exercício 1:**\n",
    "\n",
    "\n",
    "Sim, o valor pode ser considerado um outlier. Considerando o contexto do dataset, em 1912 (ano em que o acidente ocorreu), a expectativa de vida na Inglaterra era de 55 anos, sendo assim, contextualmente uma pessoa de 80 anos pode ser considerada um outlier. Do ponto de vista matemático, também pode ser considerado outlier. Para calcular um outlier, precisa-se verificar se o valor está abaixo de `Q1 - 1,5 * IQR` ou se o valor está acima de `Q3 + 1,5 * IQR`, sendo `Q1` o valor que divide o primeiro quartil, `Q3` o valor que divide o terceiro quartil e `IQR` sendo o Intervalo Interquartil, dado por `IQR = Q3 - Q1`.\n",
    "\n",
    "Utilizando uma vizualização boxplot, pode-se verificar que o valor 80 é considerado um outlier."
   ]
  },
  {
   "cell_type": "markdown",
   "id": "b2457f90-077e-4555-bed1-0b59ca3f7840",
   "metadata": {},
   "source": [
    "A função `isnull()` retorna verdadeiro se um valor em uma posição do dataframe é vazio"
   ]
  },
  {
   "cell_type": "code",
   "execution_count": 7,
   "id": "c9169e4f-e619-46e1-8a18-4c4130ef51ed",
   "metadata": {},
   "outputs": [
    {
     "data": {
      "application/vnd.microsoft.datawrangler.viewer.v0+json": {
       "columns": [
        {
         "name": "index",
         "rawType": "int64",
         "type": "integer"
        },
        {
         "name": "Age",
         "rawType": "bool",
         "type": "boolean"
        }
       ],
       "ref": "7bb78edb-e70d-406b-a5d8-976af38418ed",
       "rows": [
        [
         "0",
         "False"
        ],
        [
         "1",
         "False"
        ],
        [
         "2",
         "False"
        ],
        [
         "3",
         "False"
        ],
        [
         "4",
         "False"
        ],
        [
         "5",
         "True"
        ],
        [
         "6",
         "False"
        ],
        [
         "7",
         "False"
        ],
        [
         "8",
         "False"
        ],
        [
         "9",
         "False"
        ],
        [
         "10",
         "False"
        ],
        [
         "11",
         "False"
        ],
        [
         "12",
         "False"
        ],
        [
         "13",
         "False"
        ],
        [
         "14",
         "False"
        ],
        [
         "15",
         "False"
        ],
        [
         "16",
         "False"
        ],
        [
         "17",
         "True"
        ],
        [
         "18",
         "False"
        ],
        [
         "19",
         "True"
        ],
        [
         "20",
         "False"
        ],
        [
         "21",
         "False"
        ],
        [
         "22",
         "False"
        ],
        [
         "23",
         "False"
        ],
        [
         "24",
         "False"
        ],
        [
         "25",
         "False"
        ],
        [
         "26",
         "True"
        ],
        [
         "27",
         "False"
        ],
        [
         "28",
         "True"
        ],
        [
         "29",
         "True"
        ],
        [
         "30",
         "False"
        ],
        [
         "31",
         "True"
        ],
        [
         "32",
         "True"
        ],
        [
         "33",
         "False"
        ],
        [
         "34",
         "False"
        ],
        [
         "35",
         "False"
        ],
        [
         "36",
         "True"
        ],
        [
         "37",
         "False"
        ],
        [
         "38",
         "False"
        ],
        [
         "39",
         "False"
        ],
        [
         "40",
         "False"
        ],
        [
         "41",
         "False"
        ],
        [
         "42",
         "True"
        ],
        [
         "43",
         "False"
        ],
        [
         "44",
         "False"
        ],
        [
         "45",
         "True"
        ],
        [
         "46",
         "True"
        ],
        [
         "47",
         "True"
        ],
        [
         "48",
         "True"
        ],
        [
         "49",
         "False"
        ]
       ],
       "shape": {
        "columns": 1,
        "rows": 891
       }
      },
      "text/plain": [
       "0      False\n",
       "1      False\n",
       "2      False\n",
       "3      False\n",
       "4      False\n",
       "       ...  \n",
       "886    False\n",
       "887    False\n",
       "888     True\n",
       "889    False\n",
       "890    False\n",
       "Name: Age, Length: 891, dtype: bool"
      ]
     },
     "execution_count": 7,
     "metadata": {},
     "output_type": "execute_result"
    }
   ],
   "source": [
    "dados['Age'].isnull()"
   ]
  },
  {
   "cell_type": "markdown",
   "id": "6108ddf1-f55b-49c0-b62d-0c8a2e4e6092",
   "metadata": {},
   "source": [
    "Podemos obter a contagem de valores nulos em cada coluna em um novo dataframe"
   ]
  },
  {
   "cell_type": "code",
   "execution_count": 8,
   "id": "1cb4c3da-55a7-4134-8942-8da3cd2ccf96",
   "metadata": {},
   "outputs": [
    {
     "data": {
      "application/vnd.microsoft.datawrangler.viewer.v0+json": {
       "columns": [
        {
         "name": "index",
         "rawType": "object",
         "type": "string"
        },
        {
         "name": "0",
         "rawType": "int64",
         "type": "integer"
        }
       ],
       "ref": "4fb22447-85f7-4baf-b306-72b707d813d4",
       "rows": [
        [
         "PassengerId",
         "0"
        ],
        [
         "Survived",
         "0"
        ],
        [
         "Pclass",
         "0"
        ],
        [
         "Name",
         "0"
        ],
        [
         "Sex",
         "0"
        ],
        [
         "Age",
         "177"
        ],
        [
         "SibSp",
         "0"
        ],
        [
         "Parch",
         "0"
        ],
        [
         "Ticket",
         "0"
        ],
        [
         "Fare",
         "0"
        ],
        [
         "Cabin",
         "687"
        ],
        [
         "Embarked",
         "2"
        ]
       ],
       "shape": {
        "columns": 1,
        "rows": 12
       }
      },
      "text/plain": [
       "PassengerId      0\n",
       "Survived         0\n",
       "Pclass           0\n",
       "Name             0\n",
       "Sex              0\n",
       "Age            177\n",
       "SibSp            0\n",
       "Parch            0\n",
       "Ticket           0\n",
       "Fare             0\n",
       "Cabin          687\n",
       "Embarked         2\n",
       "dtype: int64"
      ]
     },
     "execution_count": 8,
     "metadata": {},
     "output_type": "execute_result"
    }
   ],
   "source": [
    "contagem_nulos = dados.isnull().sum()\n",
    "contagem_nulos"
   ]
  },
  {
   "cell_type": "markdown",
   "id": "1310df5d-f5f5-4396-a91a-7308ab0b1c32",
   "metadata": {},
   "source": [
    "## Exclusão de Registros com dados faltantes"
   ]
  },
  {
   "cell_type": "markdown",
   "id": "7d7d1cd4-853f-4206-8e67-e1ea8344099e",
   "metadata": {},
   "source": [
    "Uma forma de lidar com valores ausentes é excluir do dataframe as linhas que possuem valores ausentes. Isso pode ser feito facilmente através da função `dropna`. Essa função retorna um dataset sem as linhas que possuem algum valor ausente\n"
   ]
  },
  {
   "cell_type": "code",
   "execution_count": 9,
   "id": "46ef6fcd",
   "metadata": {},
   "outputs": [],
   "source": [
    "contagem_nulos = dados.isnull().values.sum()"
   ]
  },
  {
   "cell_type": "code",
   "execution_count": 10,
   "id": "0e4569db-2868-47bb-bb79-22a0ae346cb1",
   "metadata": {},
   "outputs": [],
   "source": [
    "sem_nulos = dados.dropna()"
   ]
  },
  {
   "cell_type": "markdown",
   "id": "f1bcf9aa-6157-4aad-ae46-bbfadcc73934",
   "metadata": {},
   "source": [
    "**EXERCÍCIO 2**: Quantos registros foram excluídos do dataset?"
   ]
  },
  {
   "cell_type": "markdown",
   "id": "9894dd6d-ca4c-4c8a-88d5-002cae6ee6b2",
   "metadata": {},
   "source": [
    "**Resposta do Exercício 2:**\n",
    "\n",
    "Foram excluídos 866 registros do dataset. Foi possível obter o número de registros excluídos contando a soma da quantidade de valores nulos antes de excluir do dataset e verificando se após a operação ainda exite algum valor nulo."
   ]
  },
  {
   "cell_type": "code",
   "execution_count": 11,
   "id": "7d78808a",
   "metadata": {},
   "outputs": [
    {
     "name": "stdout",
     "output_type": "stream",
     "text": [
      "Valores faltantes excluidos: 866\n",
      "Valores nulos após a operação: 0\n"
     ]
    }
   ],
   "source": [
    "print(\"Valores faltantes excluidos:\", contagem_nulos)\n",
    "print(\"Valores nulos após a operação:\", sem_nulos.isnull().values.sum())"
   ]
  },
  {
   "cell_type": "markdown",
   "id": "c61056e6-0a08-4497-88f5-19af3544243e",
   "metadata": {},
   "source": [
    "**EXERCÍCIO 3**: Pode-se também excluir do dataset as colunas que contém valores faltantes. Para isso deve-se informar o parâmetro `axis=1` para a função `dropna`. Teste essa função e verifique quantas colunas foram excluídas do dataframe."
   ]
  },
  {
   "cell_type": "markdown",
   "id": "b88b5b7a",
   "metadata": {},
   "source": [
    "**Resposta do Exercicio 3:**\n",
    "\n",
    "Foram excluídas 3 colunas do dataset. Existiam 3 colunas com valores faltantes."
   ]
  },
  {
   "cell_type": "code",
   "execution_count": 12,
   "id": "31673154",
   "metadata": {},
   "outputs": [],
   "source": [
    "sem_colunasnulas = dados.dropna(axis=1)"
   ]
  },
  {
   "cell_type": "code",
   "execution_count": 13,
   "id": "177af951",
   "metadata": {},
   "outputs": [
    {
     "name": "stdout",
     "output_type": "stream",
     "text": [
      "Com colunas com valores nulos: 12\n",
      "Sem colunas com valores nulos 9\n",
      "3\n"
     ]
    }
   ],
   "source": [
    "print(\"Com colunas com valores nulos:\", len(dados.columns.values))\n",
    "print(\"Sem colunas com valores nulos\", len(sem_colunasnulas.columns.values))\n",
    "print(len(dados.columns.values)-len(sem_colunasnulas.columns.values))"
   ]
  },
  {
   "cell_type": "markdown",
   "id": "ad02f581-1c86-402c-8e8f-e0af9543c204",
   "metadata": {},
   "source": [
    "## Inputação de Dados"
   ]
  },
  {
   "cell_type": "markdown",
   "id": "c846dac6-d946-40e2-846e-fa0e8e2fc4f4",
   "metadata": {},
   "source": [
    "### Substituição Dummy"
   ]
  },
  {
   "cell_type": "markdown",
   "id": "7caa46dc-e6fd-462c-86a2-ec203785dc6b",
   "metadata": {},
   "source": [
    "Outra forma de lidar com valores ausentes é preencher os valores faltantes com um valor padrão. A função `fillna(valor)` pode ser utilizada para realizar esta tarefa.\n",
    "\n",
    "*Tome cuidado*: a função `fillna` preenche todo o dataframe de uma vez\n"
   ]
  },
  {
   "cell_type": "code",
   "execution_count": 14,
   "id": "a39e0f18-3cf1-4335-85e0-b2d6fde33913",
   "metadata": {},
   "outputs": [],
   "source": [
    "# Preenchendo todos os dados faltantes com 0\n",
    "preenchido = dados.fillna(0)"
   ]
  },
  {
   "cell_type": "code",
   "execution_count": 15,
   "id": "df445efa-38ba-475f-acd2-3ec9d3acd158",
   "metadata": {},
   "outputs": [
    {
     "data": {
      "application/vnd.microsoft.datawrangler.viewer.v0+json": {
       "columns": [
        {
         "name": "index",
         "rawType": "int64",
         "type": "integer"
        },
        {
         "name": "PassengerId",
         "rawType": "int64",
         "type": "integer"
        },
        {
         "name": "Survived",
         "rawType": "int64",
         "type": "integer"
        },
        {
         "name": "Pclass",
         "rawType": "int64",
         "type": "integer"
        },
        {
         "name": "Name",
         "rawType": "object",
         "type": "string"
        },
        {
         "name": "Sex",
         "rawType": "object",
         "type": "string"
        },
        {
         "name": "Age",
         "rawType": "float64",
         "type": "float"
        },
        {
         "name": "SibSp",
         "rawType": "int64",
         "type": "integer"
        },
        {
         "name": "Parch",
         "rawType": "int64",
         "type": "integer"
        },
        {
         "name": "Ticket",
         "rawType": "object",
         "type": "string"
        },
        {
         "name": "Fare",
         "rawType": "float64",
         "type": "float"
        },
        {
         "name": "Cabin",
         "rawType": "object",
         "type": "unknown"
        },
        {
         "name": "Embarked",
         "rawType": "object",
         "type": "unknown"
        }
       ],
       "ref": "1bc43ab3-212a-4cbf-83a0-0e919935510b",
       "rows": [
        [
         "0",
         "1",
         "0",
         "3",
         "Braund, Mr. Owen Harris",
         "male",
         "22.0",
         "1",
         "0",
         "A/5 21171",
         "7.25",
         "0",
         "S"
        ],
        [
         "1",
         "2",
         "1",
         "1",
         "Cumings, Mrs. John Bradley (Florence Briggs Thayer)",
         "female",
         "38.0",
         "1",
         "0",
         "PC 17599",
         "71.2833",
         "C85",
         "C"
        ],
        [
         "2",
         "3",
         "1",
         "3",
         "Heikkinen, Miss. Laina",
         "female",
         "26.0",
         "0",
         "0",
         "STON/O2. 3101282",
         "7.925",
         "0",
         "S"
        ],
        [
         "3",
         "4",
         "1",
         "1",
         "Futrelle, Mrs. Jacques Heath (Lily May Peel)",
         "female",
         "35.0",
         "1",
         "0",
         "113803",
         "53.1",
         "C123",
         "S"
        ],
        [
         "4",
         "5",
         "0",
         "3",
         "Allen, Mr. William Henry",
         "male",
         "35.0",
         "0",
         "0",
         "373450",
         "8.05",
         "0",
         "S"
        ],
        [
         "5",
         "6",
         "0",
         "3",
         "Moran, Mr. James",
         "male",
         "0.0",
         "0",
         "0",
         "330877",
         "8.4583",
         "0",
         "Q"
        ],
        [
         "6",
         "7",
         "0",
         "1",
         "McCarthy, Mr. Timothy J",
         "male",
         "54.0",
         "0",
         "0",
         "17463",
         "51.8625",
         "E46",
         "S"
        ],
        [
         "7",
         "8",
         "0",
         "3",
         "Palsson, Master. Gosta Leonard",
         "male",
         "2.0",
         "3",
         "1",
         "349909",
         "21.075",
         "0",
         "S"
        ],
        [
         "8",
         "9",
         "1",
         "3",
         "Johnson, Mrs. Oscar W (Elisabeth Vilhelmina Berg)",
         "female",
         "27.0",
         "0",
         "2",
         "347742",
         "11.1333",
         "0",
         "S"
        ],
        [
         "9",
         "10",
         "1",
         "2",
         "Nasser, Mrs. Nicholas (Adele Achem)",
         "female",
         "14.0",
         "1",
         "0",
         "237736",
         "30.0708",
         "0",
         "C"
        ],
        [
         "10",
         "11",
         "1",
         "3",
         "Sandstrom, Miss. Marguerite Rut",
         "female",
         "4.0",
         "1",
         "1",
         "PP 9549",
         "16.7",
         "G6",
         "S"
        ],
        [
         "11",
         "12",
         "1",
         "1",
         "Bonnell, Miss. Elizabeth",
         "female",
         "58.0",
         "0",
         "0",
         "113783",
         "26.55",
         "C103",
         "S"
        ],
        [
         "12",
         "13",
         "0",
         "3",
         "Saundercock, Mr. William Henry",
         "male",
         "20.0",
         "0",
         "0",
         "A/5. 2151",
         "8.05",
         "0",
         "S"
        ],
        [
         "13",
         "14",
         "0",
         "3",
         "Andersson, Mr. Anders Johan",
         "male",
         "39.0",
         "1",
         "5",
         "347082",
         "31.275",
         "0",
         "S"
        ],
        [
         "14",
         "15",
         "0",
         "3",
         "Vestrom, Miss. Hulda Amanda Adolfina",
         "female",
         "14.0",
         "0",
         "0",
         "350406",
         "7.8542",
         "0",
         "S"
        ],
        [
         "15",
         "16",
         "1",
         "2",
         "Hewlett, Mrs. (Mary D Kingcome) ",
         "female",
         "55.0",
         "0",
         "0",
         "248706",
         "16.0",
         "0",
         "S"
        ],
        [
         "16",
         "17",
         "0",
         "3",
         "Rice, Master. Eugene",
         "male",
         "2.0",
         "4",
         "1",
         "382652",
         "29.125",
         "0",
         "Q"
        ],
        [
         "17",
         "18",
         "1",
         "2",
         "Williams, Mr. Charles Eugene",
         "male",
         "0.0",
         "0",
         "0",
         "244373",
         "13.0",
         "0",
         "S"
        ],
        [
         "18",
         "19",
         "0",
         "3",
         "Vander Planke, Mrs. Julius (Emelia Maria Vandemoortele)",
         "female",
         "31.0",
         "1",
         "0",
         "345763",
         "18.0",
         "0",
         "S"
        ],
        [
         "19",
         "20",
         "1",
         "3",
         "Masselmani, Mrs. Fatima",
         "female",
         "0.0",
         "0",
         "0",
         "2649",
         "7.225",
         "0",
         "C"
        ],
        [
         "20",
         "21",
         "0",
         "2",
         "Fynney, Mr. Joseph J",
         "male",
         "35.0",
         "0",
         "0",
         "239865",
         "26.0",
         "0",
         "S"
        ],
        [
         "21",
         "22",
         "1",
         "2",
         "Beesley, Mr. Lawrence",
         "male",
         "34.0",
         "0",
         "0",
         "248698",
         "13.0",
         "D56",
         "S"
        ],
        [
         "22",
         "23",
         "1",
         "3",
         "McGowan, Miss. Anna \"Annie\"",
         "female",
         "15.0",
         "0",
         "0",
         "330923",
         "8.0292",
         "0",
         "Q"
        ],
        [
         "23",
         "24",
         "1",
         "1",
         "Sloper, Mr. William Thompson",
         "male",
         "28.0",
         "0",
         "0",
         "113788",
         "35.5",
         "A6",
         "S"
        ],
        [
         "24",
         "25",
         "0",
         "3",
         "Palsson, Miss. Torborg Danira",
         "female",
         "8.0",
         "3",
         "1",
         "349909",
         "21.075",
         "0",
         "S"
        ],
        [
         "25",
         "26",
         "1",
         "3",
         "Asplund, Mrs. Carl Oscar (Selma Augusta Emilia Johansson)",
         "female",
         "38.0",
         "1",
         "5",
         "347077",
         "31.3875",
         "0",
         "S"
        ],
        [
         "26",
         "27",
         "0",
         "3",
         "Emir, Mr. Farred Chehab",
         "male",
         "0.0",
         "0",
         "0",
         "2631",
         "7.225",
         "0",
         "C"
        ],
        [
         "27",
         "28",
         "0",
         "1",
         "Fortune, Mr. Charles Alexander",
         "male",
         "19.0",
         "3",
         "2",
         "19950",
         "263.0",
         "C23 C25 C27",
         "S"
        ],
        [
         "28",
         "29",
         "1",
         "3",
         "O'Dwyer, Miss. Ellen \"Nellie\"",
         "female",
         "0.0",
         "0",
         "0",
         "330959",
         "7.8792",
         "0",
         "Q"
        ],
        [
         "29",
         "30",
         "0",
         "3",
         "Todoroff, Mr. Lalio",
         "male",
         "0.0",
         "0",
         "0",
         "349216",
         "7.8958",
         "0",
         "S"
        ],
        [
         "30",
         "31",
         "0",
         "1",
         "Uruchurtu, Don. Manuel E",
         "male",
         "40.0",
         "0",
         "0",
         "PC 17601",
         "27.7208",
         "0",
         "C"
        ],
        [
         "31",
         "32",
         "1",
         "1",
         "Spencer, Mrs. William Augustus (Marie Eugenie)",
         "female",
         "0.0",
         "1",
         "0",
         "PC 17569",
         "146.5208",
         "B78",
         "C"
        ],
        [
         "32",
         "33",
         "1",
         "3",
         "Glynn, Miss. Mary Agatha",
         "female",
         "0.0",
         "0",
         "0",
         "335677",
         "7.75",
         "0",
         "Q"
        ],
        [
         "33",
         "34",
         "0",
         "2",
         "Wheadon, Mr. Edward H",
         "male",
         "66.0",
         "0",
         "0",
         "C.A. 24579",
         "10.5",
         "0",
         "S"
        ],
        [
         "34",
         "35",
         "0",
         "1",
         "Meyer, Mr. Edgar Joseph",
         "male",
         "28.0",
         "1",
         "0",
         "PC 17604",
         "82.1708",
         "0",
         "C"
        ],
        [
         "35",
         "36",
         "0",
         "1",
         "Holverson, Mr. Alexander Oskar",
         "male",
         "42.0",
         "1",
         "0",
         "113789",
         "52.0",
         "0",
         "S"
        ],
        [
         "36",
         "37",
         "1",
         "3",
         "Mamee, Mr. Hanna",
         "male",
         "0.0",
         "0",
         "0",
         "2677",
         "7.2292",
         "0",
         "C"
        ],
        [
         "37",
         "38",
         "0",
         "3",
         "Cann, Mr. Ernest Charles",
         "male",
         "21.0",
         "0",
         "0",
         "A./5. 2152",
         "8.05",
         "0",
         "S"
        ],
        [
         "38",
         "39",
         "0",
         "3",
         "Vander Planke, Miss. Augusta Maria",
         "female",
         "18.0",
         "2",
         "0",
         "345764",
         "18.0",
         "0",
         "S"
        ],
        [
         "39",
         "40",
         "1",
         "3",
         "Nicola-Yarred, Miss. Jamila",
         "female",
         "14.0",
         "1",
         "0",
         "2651",
         "11.2417",
         "0",
         "C"
        ],
        [
         "40",
         "41",
         "0",
         "3",
         "Ahlin, Mrs. Johan (Johanna Persdotter Larsson)",
         "female",
         "40.0",
         "1",
         "0",
         "7546",
         "9.475",
         "0",
         "S"
        ],
        [
         "41",
         "42",
         "0",
         "2",
         "Turpin, Mrs. William John Robert (Dorothy Ann Wonnacott)",
         "female",
         "27.0",
         "1",
         "0",
         "11668",
         "21.0",
         "0",
         "S"
        ],
        [
         "42",
         "43",
         "0",
         "3",
         "Kraeff, Mr. Theodor",
         "male",
         "0.0",
         "0",
         "0",
         "349253",
         "7.8958",
         "0",
         "C"
        ],
        [
         "43",
         "44",
         "1",
         "2",
         "Laroche, Miss. Simonne Marie Anne Andree",
         "female",
         "3.0",
         "1",
         "2",
         "SC/Paris 2123",
         "41.5792",
         "0",
         "C"
        ],
        [
         "44",
         "45",
         "1",
         "3",
         "Devaney, Miss. Margaret Delia",
         "female",
         "19.0",
         "0",
         "0",
         "330958",
         "7.8792",
         "0",
         "Q"
        ],
        [
         "45",
         "46",
         "0",
         "3",
         "Rogers, Mr. William John",
         "male",
         "0.0",
         "0",
         "0",
         "S.C./A.4. 23567",
         "8.05",
         "0",
         "S"
        ],
        [
         "46",
         "47",
         "0",
         "3",
         "Lennon, Mr. Denis",
         "male",
         "0.0",
         "1",
         "0",
         "370371",
         "15.5",
         "0",
         "Q"
        ],
        [
         "47",
         "48",
         "1",
         "3",
         "O'Driscoll, Miss. Bridget",
         "female",
         "0.0",
         "0",
         "0",
         "14311",
         "7.75",
         "0",
         "Q"
        ],
        [
         "48",
         "49",
         "0",
         "3",
         "Samaan, Mr. Youssef",
         "male",
         "0.0",
         "2",
         "0",
         "2662",
         "21.6792",
         "0",
         "C"
        ],
        [
         "49",
         "50",
         "0",
         "3",
         "Arnold-Franchi, Mrs. Josef (Josefine Franchi)",
         "female",
         "18.0",
         "1",
         "0",
         "349237",
         "17.8",
         "0",
         "S"
        ]
       ],
       "shape": {
        "columns": 12,
        "rows": 891
       }
      },
      "text/html": [
       "<div>\n",
       "<style scoped>\n",
       "    .dataframe tbody tr th:only-of-type {\n",
       "        vertical-align: middle;\n",
       "    }\n",
       "\n",
       "    .dataframe tbody tr th {\n",
       "        vertical-align: top;\n",
       "    }\n",
       "\n",
       "    .dataframe thead th {\n",
       "        text-align: right;\n",
       "    }\n",
       "</style>\n",
       "<table border=\"1\" class=\"dataframe\">\n",
       "  <thead>\n",
       "    <tr style=\"text-align: right;\">\n",
       "      <th></th>\n",
       "      <th>PassengerId</th>\n",
       "      <th>Survived</th>\n",
       "      <th>Pclass</th>\n",
       "      <th>Name</th>\n",
       "      <th>Sex</th>\n",
       "      <th>Age</th>\n",
       "      <th>SibSp</th>\n",
       "      <th>Parch</th>\n",
       "      <th>Ticket</th>\n",
       "      <th>Fare</th>\n",
       "      <th>Cabin</th>\n",
       "      <th>Embarked</th>\n",
       "    </tr>\n",
       "  </thead>\n",
       "  <tbody>\n",
       "    <tr>\n",
       "      <th>0</th>\n",
       "      <td>1</td>\n",
       "      <td>0</td>\n",
       "      <td>3</td>\n",
       "      <td>Braund, Mr. Owen Harris</td>\n",
       "      <td>male</td>\n",
       "      <td>22.0</td>\n",
       "      <td>1</td>\n",
       "      <td>0</td>\n",
       "      <td>A/5 21171</td>\n",
       "      <td>7.2500</td>\n",
       "      <td>0</td>\n",
       "      <td>S</td>\n",
       "    </tr>\n",
       "    <tr>\n",
       "      <th>1</th>\n",
       "      <td>2</td>\n",
       "      <td>1</td>\n",
       "      <td>1</td>\n",
       "      <td>Cumings, Mrs. John Bradley (Florence Briggs Th...</td>\n",
       "      <td>female</td>\n",
       "      <td>38.0</td>\n",
       "      <td>1</td>\n",
       "      <td>0</td>\n",
       "      <td>PC 17599</td>\n",
       "      <td>71.2833</td>\n",
       "      <td>C85</td>\n",
       "      <td>C</td>\n",
       "    </tr>\n",
       "    <tr>\n",
       "      <th>2</th>\n",
       "      <td>3</td>\n",
       "      <td>1</td>\n",
       "      <td>3</td>\n",
       "      <td>Heikkinen, Miss. Laina</td>\n",
       "      <td>female</td>\n",
       "      <td>26.0</td>\n",
       "      <td>0</td>\n",
       "      <td>0</td>\n",
       "      <td>STON/O2. 3101282</td>\n",
       "      <td>7.9250</td>\n",
       "      <td>0</td>\n",
       "      <td>S</td>\n",
       "    </tr>\n",
       "    <tr>\n",
       "      <th>3</th>\n",
       "      <td>4</td>\n",
       "      <td>1</td>\n",
       "      <td>1</td>\n",
       "      <td>Futrelle, Mrs. Jacques Heath (Lily May Peel)</td>\n",
       "      <td>female</td>\n",
       "      <td>35.0</td>\n",
       "      <td>1</td>\n",
       "      <td>0</td>\n",
       "      <td>113803</td>\n",
       "      <td>53.1000</td>\n",
       "      <td>C123</td>\n",
       "      <td>S</td>\n",
       "    </tr>\n",
       "    <tr>\n",
       "      <th>4</th>\n",
       "      <td>5</td>\n",
       "      <td>0</td>\n",
       "      <td>3</td>\n",
       "      <td>Allen, Mr. William Henry</td>\n",
       "      <td>male</td>\n",
       "      <td>35.0</td>\n",
       "      <td>0</td>\n",
       "      <td>0</td>\n",
       "      <td>373450</td>\n",
       "      <td>8.0500</td>\n",
       "      <td>0</td>\n",
       "      <td>S</td>\n",
       "    </tr>\n",
       "    <tr>\n",
       "      <th>...</th>\n",
       "      <td>...</td>\n",
       "      <td>...</td>\n",
       "      <td>...</td>\n",
       "      <td>...</td>\n",
       "      <td>...</td>\n",
       "      <td>...</td>\n",
       "      <td>...</td>\n",
       "      <td>...</td>\n",
       "      <td>...</td>\n",
       "      <td>...</td>\n",
       "      <td>...</td>\n",
       "      <td>...</td>\n",
       "    </tr>\n",
       "    <tr>\n",
       "      <th>886</th>\n",
       "      <td>887</td>\n",
       "      <td>0</td>\n",
       "      <td>2</td>\n",
       "      <td>Montvila, Rev. Juozas</td>\n",
       "      <td>male</td>\n",
       "      <td>27.0</td>\n",
       "      <td>0</td>\n",
       "      <td>0</td>\n",
       "      <td>211536</td>\n",
       "      <td>13.0000</td>\n",
       "      <td>0</td>\n",
       "      <td>S</td>\n",
       "    </tr>\n",
       "    <tr>\n",
       "      <th>887</th>\n",
       "      <td>888</td>\n",
       "      <td>1</td>\n",
       "      <td>1</td>\n",
       "      <td>Graham, Miss. Margaret Edith</td>\n",
       "      <td>female</td>\n",
       "      <td>19.0</td>\n",
       "      <td>0</td>\n",
       "      <td>0</td>\n",
       "      <td>112053</td>\n",
       "      <td>30.0000</td>\n",
       "      <td>B42</td>\n",
       "      <td>S</td>\n",
       "    </tr>\n",
       "    <tr>\n",
       "      <th>888</th>\n",
       "      <td>889</td>\n",
       "      <td>0</td>\n",
       "      <td>3</td>\n",
       "      <td>Johnston, Miss. Catherine Helen \"Carrie\"</td>\n",
       "      <td>female</td>\n",
       "      <td>0.0</td>\n",
       "      <td>1</td>\n",
       "      <td>2</td>\n",
       "      <td>W./C. 6607</td>\n",
       "      <td>23.4500</td>\n",
       "      <td>0</td>\n",
       "      <td>S</td>\n",
       "    </tr>\n",
       "    <tr>\n",
       "      <th>889</th>\n",
       "      <td>890</td>\n",
       "      <td>1</td>\n",
       "      <td>1</td>\n",
       "      <td>Behr, Mr. Karl Howell</td>\n",
       "      <td>male</td>\n",
       "      <td>26.0</td>\n",
       "      <td>0</td>\n",
       "      <td>0</td>\n",
       "      <td>111369</td>\n",
       "      <td>30.0000</td>\n",
       "      <td>C148</td>\n",
       "      <td>C</td>\n",
       "    </tr>\n",
       "    <tr>\n",
       "      <th>890</th>\n",
       "      <td>891</td>\n",
       "      <td>0</td>\n",
       "      <td>3</td>\n",
       "      <td>Dooley, Mr. Patrick</td>\n",
       "      <td>male</td>\n",
       "      <td>32.0</td>\n",
       "      <td>0</td>\n",
       "      <td>0</td>\n",
       "      <td>370376</td>\n",
       "      <td>7.7500</td>\n",
       "      <td>0</td>\n",
       "      <td>Q</td>\n",
       "    </tr>\n",
       "  </tbody>\n",
       "</table>\n",
       "<p>891 rows × 12 columns</p>\n",
       "</div>"
      ],
      "text/plain": [
       "     PassengerId  Survived  Pclass  \\\n",
       "0              1         0       3   \n",
       "1              2         1       1   \n",
       "2              3         1       3   \n",
       "3              4         1       1   \n",
       "4              5         0       3   \n",
       "..           ...       ...     ...   \n",
       "886          887         0       2   \n",
       "887          888         1       1   \n",
       "888          889         0       3   \n",
       "889          890         1       1   \n",
       "890          891         0       3   \n",
       "\n",
       "                                                  Name     Sex   Age  SibSp  \\\n",
       "0                              Braund, Mr. Owen Harris    male  22.0      1   \n",
       "1    Cumings, Mrs. John Bradley (Florence Briggs Th...  female  38.0      1   \n",
       "2                               Heikkinen, Miss. Laina  female  26.0      0   \n",
       "3         Futrelle, Mrs. Jacques Heath (Lily May Peel)  female  35.0      1   \n",
       "4                             Allen, Mr. William Henry    male  35.0      0   \n",
       "..                                                 ...     ...   ...    ...   \n",
       "886                              Montvila, Rev. Juozas    male  27.0      0   \n",
       "887                       Graham, Miss. Margaret Edith  female  19.0      0   \n",
       "888           Johnston, Miss. Catherine Helen \"Carrie\"  female   0.0      1   \n",
       "889                              Behr, Mr. Karl Howell    male  26.0      0   \n",
       "890                                Dooley, Mr. Patrick    male  32.0      0   \n",
       "\n",
       "     Parch            Ticket     Fare Cabin Embarked  \n",
       "0        0         A/5 21171   7.2500     0        S  \n",
       "1        0          PC 17599  71.2833   C85        C  \n",
       "2        0  STON/O2. 3101282   7.9250     0        S  \n",
       "3        0            113803  53.1000  C123        S  \n",
       "4        0            373450   8.0500     0        S  \n",
       "..     ...               ...      ...   ...      ...  \n",
       "886      0            211536  13.0000     0        S  \n",
       "887      0            112053  30.0000   B42        S  \n",
       "888      2        W./C. 6607  23.4500     0        S  \n",
       "889      0            111369  30.0000  C148        C  \n",
       "890      0            370376   7.7500     0        Q  \n",
       "\n",
       "[891 rows x 12 columns]"
      ]
     },
     "execution_count": 15,
     "metadata": {},
     "output_type": "execute_result"
    }
   ],
   "source": [
    "preenchido"
   ]
  },
  {
   "cell_type": "code",
   "execution_count": 16,
   "id": "38416644-d835-4b3d-a8af-432812256120",
   "metadata": {},
   "outputs": [
    {
     "data": {
      "application/vnd.microsoft.datawrangler.viewer.v0+json": {
       "columns": [
        {
         "name": "index",
         "rawType": "object",
         "type": "string"
        },
        {
         "name": "0",
         "rawType": "int64",
         "type": "integer"
        }
       ],
       "ref": "79edd415-71d2-4f09-b9a9-f06afba06153",
       "rows": [
        [
         "PassengerId",
         "0"
        ],
        [
         "Survived",
         "0"
        ],
        [
         "Pclass",
         "0"
        ],
        [
         "Name",
         "0"
        ],
        [
         "Sex",
         "0"
        ],
        [
         "Age",
         "0"
        ],
        [
         "SibSp",
         "0"
        ],
        [
         "Parch",
         "0"
        ],
        [
         "Ticket",
         "0"
        ],
        [
         "Fare",
         "0"
        ],
        [
         "Cabin",
         "0"
        ],
        [
         "Embarked",
         "0"
        ]
       ],
       "shape": {
        "columns": 1,
        "rows": 12
       }
      },
      "text/plain": [
       "PassengerId    0\n",
       "Survived       0\n",
       "Pclass         0\n",
       "Name           0\n",
       "Sex            0\n",
       "Age            0\n",
       "SibSp          0\n",
       "Parch          0\n",
       "Ticket         0\n",
       "Fare           0\n",
       "Cabin          0\n",
       "Embarked       0\n",
       "dtype: int64"
      ]
     },
     "execution_count": 16,
     "metadata": {},
     "output_type": "execute_result"
    }
   ],
   "source": [
    "# Note que não teremos mais valores nulos no dataset\n",
    "contagem_nulos = preenchido.isnull().sum()\n",
    "contagem_nulos"
   ]
  },
  {
   "cell_type": "markdown",
   "id": "16dad181-a145-4955-a778-de40d0a3fbb8",
   "metadata": {},
   "source": [
    "### Substituição pela Média / Item Frequente"
   ]
  },
  {
   "cell_type": "code",
   "execution_count": 17,
   "id": "bb2b86ec-01e3-474a-b68c-83f14a774cee",
   "metadata": {},
   "outputs": [
    {
     "data": {
      "application/vnd.microsoft.datawrangler.viewer.v0+json": {
       "columns": [
        {
         "name": "index",
         "rawType": "int64",
         "type": "integer"
        },
        {
         "name": "Produto",
         "rawType": "object",
         "type": "string"
        },
        {
         "name": "Quantidade",
         "rawType": "float64",
         "type": "float"
        },
        {
         "name": "Preco",
         "rawType": "float64",
         "type": "float"
        }
       ],
       "ref": "5622a9aa-cb7a-46bf-98b9-a3773e2c4f3f",
       "rows": [
        [
         "0",
         "A",
         "10.0",
         "100.0"
        ],
        [
         "1",
         "B",
         null,
         "200.0"
        ],
        [
         "2",
         "C",
         "15.0",
         null
        ],
        [
         "3",
         "D",
         "20.0",
         "100.0"
        ]
       ],
       "shape": {
        "columns": 3,
        "rows": 4
       }
      },
      "text/html": [
       "<div>\n",
       "<style scoped>\n",
       "    .dataframe tbody tr th:only-of-type {\n",
       "        vertical-align: middle;\n",
       "    }\n",
       "\n",
       "    .dataframe tbody tr th {\n",
       "        vertical-align: top;\n",
       "    }\n",
       "\n",
       "    .dataframe thead th {\n",
       "        text-align: right;\n",
       "    }\n",
       "</style>\n",
       "<table border=\"1\" class=\"dataframe\">\n",
       "  <thead>\n",
       "    <tr style=\"text-align: right;\">\n",
       "      <th></th>\n",
       "      <th>Produto</th>\n",
       "      <th>Quantidade</th>\n",
       "      <th>Preco</th>\n",
       "    </tr>\n",
       "  </thead>\n",
       "  <tbody>\n",
       "    <tr>\n",
       "      <th>0</th>\n",
       "      <td>A</td>\n",
       "      <td>10.0</td>\n",
       "      <td>100.0</td>\n",
       "    </tr>\n",
       "    <tr>\n",
       "      <th>1</th>\n",
       "      <td>B</td>\n",
       "      <td>NaN</td>\n",
       "      <td>200.0</td>\n",
       "    </tr>\n",
       "    <tr>\n",
       "      <th>2</th>\n",
       "      <td>C</td>\n",
       "      <td>15.0</td>\n",
       "      <td>NaN</td>\n",
       "    </tr>\n",
       "    <tr>\n",
       "      <th>3</th>\n",
       "      <td>D</td>\n",
       "      <td>20.0</td>\n",
       "      <td>100.0</td>\n",
       "    </tr>\n",
       "  </tbody>\n",
       "</table>\n",
       "</div>"
      ],
      "text/plain": [
       "  Produto  Quantidade  Preco\n",
       "0       A        10.0  100.0\n",
       "1       B         NaN  200.0\n",
       "2       C        15.0    NaN\n",
       "3       D        20.0  100.0"
      ]
     },
     "execution_count": 17,
     "metadata": {},
     "output_type": "execute_result"
    }
   ],
   "source": [
    "dados_teste = {\n",
    "    \"Produto\": [\"A\", \"B\", \"C\", \"D\"],\n",
    "    \"Quantidade\": [10, None, 15, 20],\n",
    "    \"Preco\": [100, 200, None, 100]\n",
    "}\n",
    "\n",
    "df_vendas = pd.DataFrame(dados_teste)\n",
    "df_vendas"
   ]
  },
  {
   "cell_type": "code",
   "execution_count": 18,
   "id": "d5c8d35e-0484-453e-bd51-422ee2277334",
   "metadata": {},
   "outputs": [
    {
     "data": {
      "application/vnd.microsoft.datawrangler.viewer.v0+json": {
       "columns": [
        {
         "name": "index",
         "rawType": "int64",
         "type": "integer"
        },
        {
         "name": "Produto",
         "rawType": "object",
         "type": "string"
        },
        {
         "name": "Quantidade",
         "rawType": "float64",
         "type": "float"
        },
        {
         "name": "Preco",
         "rawType": "float64",
         "type": "float"
        }
       ],
       "ref": "f1be8906-b2f4-495f-b90d-a2fbcbbbd5fb",
       "rows": [
        [
         "0",
         "A",
         "10.0",
         "100.0"
        ],
        [
         "1",
         "B",
         "-1.0",
         "200.0"
        ],
        [
         "2",
         "C",
         "15.0",
         "100.0"
        ],
        [
         "3",
         "D",
         "20.0",
         "100.0"
        ]
       ],
       "shape": {
        "columns": 3,
        "rows": 4
       }
      },
      "text/html": [
       "<div>\n",
       "<style scoped>\n",
       "    .dataframe tbody tr th:only-of-type {\n",
       "        vertical-align: middle;\n",
       "    }\n",
       "\n",
       "    .dataframe tbody tr th {\n",
       "        vertical-align: top;\n",
       "    }\n",
       "\n",
       "    .dataframe thead th {\n",
       "        text-align: right;\n",
       "    }\n",
       "</style>\n",
       "<table border=\"1\" class=\"dataframe\">\n",
       "  <thead>\n",
       "    <tr style=\"text-align: right;\">\n",
       "      <th></th>\n",
       "      <th>Produto</th>\n",
       "      <th>Quantidade</th>\n",
       "      <th>Preco</th>\n",
       "    </tr>\n",
       "  </thead>\n",
       "  <tbody>\n",
       "    <tr>\n",
       "      <th>0</th>\n",
       "      <td>A</td>\n",
       "      <td>10.0</td>\n",
       "      <td>100.0</td>\n",
       "    </tr>\n",
       "    <tr>\n",
       "      <th>1</th>\n",
       "      <td>B</td>\n",
       "      <td>-1.0</td>\n",
       "      <td>200.0</td>\n",
       "    </tr>\n",
       "    <tr>\n",
       "      <th>2</th>\n",
       "      <td>C</td>\n",
       "      <td>15.0</td>\n",
       "      <td>100.0</td>\n",
       "    </tr>\n",
       "    <tr>\n",
       "      <th>3</th>\n",
       "      <td>D</td>\n",
       "      <td>20.0</td>\n",
       "      <td>100.0</td>\n",
       "    </tr>\n",
       "  </tbody>\n",
       "</table>\n",
       "</div>"
      ],
      "text/plain": [
       "  Produto  Quantidade  Preco\n",
       "0       A        10.0  100.0\n",
       "1       B        -1.0  200.0\n",
       "2       C        15.0  100.0\n",
       "3       D        20.0  100.0"
      ]
     },
     "execution_count": 18,
     "metadata": {},
     "output_type": "execute_result"
    }
   ],
   "source": [
    "# Definindo o valor padrão -1 para a coluna quantidade\n",
    "df_vendas.fillna({\"Quantidade\": -1}, inplace=True) ## inplace=True faz com que a operação seja realizada na própria variável\n",
    "\n",
    "# Obtendo a moda do atributo preço\n",
    "moda_preco = df_vendas[\"Preco\"].mode()[0]\n",
    "df_vendas.fillna({'Preco': moda_preco}, inplace=True)\n",
    "\n",
    "df_vendas"
   ]
  },
  {
   "cell_type": "markdown",
   "id": "0087694d-eb65-4f18-93ac-7335df12991d",
   "metadata": {},
   "source": [
    "**EXERCÍCIO 4**: Preencha os dados ausentes do dataset Titanic da seguinte forma:\n",
    "* Atribua o valor ‘A101’ para as cabines faltantes\n",
    "* Preencha o atributo idade com o valor médio das idades dos passageiros\n"
   ]
  },
  {
   "cell_type": "markdown",
   "id": "0013603c",
   "metadata": {},
   "source": [
    "**Resposta do Exercício 4:**\n",
    "\n",
    "Foram atribuidos aos valores faltantes da coluna `Cabin` o valor `A101` e aos dados faltantes da coluna `Age`, foi atribuído o valor médio arredondado das idades (`29,7`)."
   ]
  },
  {
   "cell_type": "code",
   "execution_count": 19,
   "id": "635a9c1c",
   "metadata": {},
   "outputs": [],
   "source": [
    "ex4 = dados.copy()\n",
    "media_idade = round(ex4[\"Age\"].mean(),1)\n",
    "ex4 = ex4.fillna({\"Cabin\": \"A101\",\n",
    "                    \"Age\": media_idade})"
   ]
  },
  {
   "cell_type": "code",
   "execution_count": 20,
   "id": "96fd0506",
   "metadata": {},
   "outputs": [
    {
     "data": {
      "application/vnd.microsoft.datawrangler.viewer.v0+json": {
       "columns": [
        {
         "name": "index",
         "rawType": "object",
         "type": "string"
        },
        {
         "name": "0",
         "rawType": "int64",
         "type": "integer"
        }
       ],
       "ref": "ac8113b6-f4f3-4493-a84c-bea148978b7b",
       "rows": [
        [
         "PassengerId",
         "0"
        ],
        [
         "Survived",
         "0"
        ],
        [
         "Pclass",
         "0"
        ],
        [
         "Name",
         "0"
        ],
        [
         "Sex",
         "0"
        ],
        [
         "Age",
         "0"
        ],
        [
         "SibSp",
         "0"
        ],
        [
         "Parch",
         "0"
        ],
        [
         "Ticket",
         "0"
        ],
        [
         "Fare",
         "0"
        ],
        [
         "Cabin",
         "0"
        ],
        [
         "Embarked",
         "2"
        ]
       ],
       "shape": {
        "columns": 1,
        "rows": 12
       }
      },
      "text/plain": [
       "PassengerId    0\n",
       "Survived       0\n",
       "Pclass         0\n",
       "Name           0\n",
       "Sex            0\n",
       "Age            0\n",
       "SibSp          0\n",
       "Parch          0\n",
       "Ticket         0\n",
       "Fare           0\n",
       "Cabin          0\n",
       "Embarked       2\n",
       "dtype: int64"
      ]
     },
     "execution_count": 20,
     "metadata": {},
     "output_type": "execute_result"
    }
   ],
   "source": [
    "ex4.isnull().sum()"
   ]
  },
  {
   "cell_type": "markdown",
   "id": "db69ab1b-014f-4f49-bddb-cf6d5e8056c8",
   "metadata": {},
   "source": [
    "É possível também usar os valores que estão nas linhas vizinhas para completar os valores faltantes."
   ]
  },
  {
   "cell_type": "markdown",
   "id": "8286b040-bb51-4ee4-918d-d652f88da629",
   "metadata": {},
   "source": [
    "**EXERCÍCIO 5**: Procure na documentação da função `fillna` quais as configurações possíveis para o atributo `method`. Crie um exemplo que use esse método para preencher os valores da coluna `Cabin`. Confira o resultado para ver se ele fica conforme o esperado."
   ]
  },
  {
   "cell_type": "code",
   "execution_count": 21,
   "id": "9cb66f12",
   "metadata": {},
   "outputs": [
    {
     "name": "stderr",
     "output_type": "stream",
     "text": [
      "/var/folders/y7/h9b651_1543gvb5qx83kjqg40000gn/T/ipykernel_36236/3184866635.py:2: FutureWarning: Series.fillna with 'method' is deprecated and will raise in a future version. Use obj.ffill() or obj.bfill() instead.\n",
      "  ex5[\"Cabin\"] = ex5[\"Cabin\"].fillna(method=\"ffill\", inplace=False)\n"
     ]
    }
   ],
   "source": [
    "ex5 = dados.copy()\n",
    "ex5[\"Cabin\"] = ex5[\"Cabin\"].fillna(method=\"ffill\", inplace=False)"
   ]
  },
  {
   "cell_type": "code",
   "execution_count": 22,
   "id": "73920cd6",
   "metadata": {},
   "outputs": [
    {
     "data": {
      "application/vnd.microsoft.datawrangler.viewer.v0+json": {
       "columns": [
        {
         "name": "index",
         "rawType": "int64",
         "type": "integer"
        },
        {
         "name": "Cabin",
         "rawType": "bool",
         "type": "boolean"
        }
       ],
       "ref": "1c954d12-9736-482d-bc1f-a8403031b52d",
       "rows": [
        [
         "0",
         "True"
        ],
        [
         "1",
         "False"
        ],
        [
         "2",
         "True"
        ],
        [
         "3",
         "False"
        ],
        [
         "4",
         "True"
        ],
        [
         "5",
         "True"
        ]
       ],
       "shape": {
        "columns": 1,
        "rows": 6
       }
      },
      "text/plain": [
       "0     True\n",
       "1    False\n",
       "2     True\n",
       "3    False\n",
       "4     True\n",
       "5     True\n",
       "Name: Cabin, dtype: bool"
      ]
     },
     "execution_count": 22,
     "metadata": {},
     "output_type": "execute_result"
    }
   ],
   "source": [
    "dados[\"Cabin\"].isnull().head(6)"
   ]
  },
  {
   "cell_type": "code",
   "execution_count": 23,
   "id": "9f2fb69d",
   "metadata": {},
   "outputs": [
    {
     "data": {
      "application/vnd.microsoft.datawrangler.viewer.v0+json": {
       "columns": [
        {
         "name": "index",
         "rawType": "int64",
         "type": "integer"
        },
        {
         "name": "Cabin",
         "rawType": "object",
         "type": "unknown"
        }
       ],
       "ref": "c112c2a1-363c-4f04-8c06-451d210efe53",
       "rows": [
        [
         "0",
         null
        ],
        [
         "1",
         "C85"
        ],
        [
         "2",
         "C85"
        ],
        [
         "3",
         "C123"
        ],
        [
         "4",
         "C123"
        ],
        [
         "5",
         "C123"
        ]
       ],
       "shape": {
        "columns": 1,
        "rows": 6
       }
      },
      "text/plain": [
       "0     NaN\n",
       "1     C85\n",
       "2     C85\n",
       "3    C123\n",
       "4    C123\n",
       "5    C123\n",
       "Name: Cabin, dtype: object"
      ]
     },
     "execution_count": 23,
     "metadata": {},
     "output_type": "execute_result"
    }
   ],
   "source": [
    "ex5[\"Cabin\"].head(6)"
   ]
  },
  {
   "cell_type": "markdown",
   "id": "83cd0636",
   "metadata": {},
   "source": [
    "**Resposta do Exercício 5:**\n",
    "\n",
    "Foi utilizado o método `ffil` para imputar os dados na coluna `Cabin`. O método `ffill` utiliza o último valor não nulo para preencher os valores nulos. Percebe-se que o resultado está correto quando se compara o índice dos valores nulos do dataframe original com os valores do dataframe com os dados imputados."
   ]
  },
  {
   "cell_type": "code",
   "execution_count": 24,
   "id": "a5ca10ff",
   "metadata": {},
   "outputs": [
    {
     "data": {
      "application/vnd.microsoft.datawrangler.viewer.v0+json": {
       "columns": [
        {
         "name": "index",
         "rawType": "int64",
         "type": "integer"
        },
        {
         "name": "PassengerId",
         "rawType": "int64",
         "type": "integer"
        },
        {
         "name": "Survived",
         "rawType": "int64",
         "type": "integer"
        },
        {
         "name": "Pclass",
         "rawType": "int64",
         "type": "integer"
        },
        {
         "name": "Name",
         "rawType": "object",
         "type": "string"
        },
        {
         "name": "Sex",
         "rawType": "object",
         "type": "string"
        },
        {
         "name": "Age",
         "rawType": "float64",
         "type": "float"
        },
        {
         "name": "SibSp",
         "rawType": "int64",
         "type": "integer"
        },
        {
         "name": "Parch",
         "rawType": "int64",
         "type": "integer"
        },
        {
         "name": "Ticket",
         "rawType": "object",
         "type": "string"
        },
        {
         "name": "Fare",
         "rawType": "float64",
         "type": "float"
        },
        {
         "name": "Cabin",
         "rawType": "object",
         "type": "unknown"
        },
        {
         "name": "Embarked",
         "rawType": "object",
         "type": "string"
        }
       ],
       "ref": "8c5f2e75-351b-4f5a-a25c-620aeaa7a8aa",
       "rows": [
        [
         "0",
         "1",
         "0",
         "3",
         "Braund, Mr. Owen Harris",
         "male",
         "22.0",
         "1",
         "0",
         "A/5 21171",
         "7.25",
         null,
         "S"
        ],
        [
         "1",
         "2",
         "1",
         "1",
         "Cumings, Mrs. John Bradley (Florence Briggs Thayer)",
         "female",
         "38.0",
         "1",
         "0",
         "PC 17599",
         "71.2833",
         "C85",
         "C"
        ],
        [
         "2",
         "3",
         "1",
         "3",
         "Heikkinen, Miss. Laina",
         "female",
         "26.0",
         "0",
         "0",
         "STON/O2. 3101282",
         "7.925",
         "C85",
         "S"
        ],
        [
         "3",
         "4",
         "1",
         "1",
         "Futrelle, Mrs. Jacques Heath (Lily May Peel)",
         "female",
         "35.0",
         "1",
         "0",
         "113803",
         "53.1",
         "C123",
         "S"
        ],
        [
         "4",
         "5",
         "0",
         "3",
         "Allen, Mr. William Henry",
         "male",
         "35.0",
         "0",
         "0",
         "373450",
         "8.05",
         "C123",
         "S"
        ],
        [
         "5",
         "6",
         "0",
         "3",
         "Moran, Mr. James",
         "male",
         null,
         "0",
         "0",
         "330877",
         "8.4583",
         "C123",
         "Q"
        ],
        [
         "6",
         "7",
         "0",
         "1",
         "McCarthy, Mr. Timothy J",
         "male",
         "54.0",
         "0",
         "0",
         "17463",
         "51.8625",
         "E46",
         "S"
        ],
        [
         "7",
         "8",
         "0",
         "3",
         "Palsson, Master. Gosta Leonard",
         "male",
         "2.0",
         "3",
         "1",
         "349909",
         "21.075",
         "E46",
         "S"
        ],
        [
         "8",
         "9",
         "1",
         "3",
         "Johnson, Mrs. Oscar W (Elisabeth Vilhelmina Berg)",
         "female",
         "27.0",
         "0",
         "2",
         "347742",
         "11.1333",
         "E46",
         "S"
        ],
        [
         "9",
         "10",
         "1",
         "2",
         "Nasser, Mrs. Nicholas (Adele Achem)",
         "female",
         "14.0",
         "1",
         "0",
         "237736",
         "30.0708",
         "E46",
         "C"
        ],
        [
         "10",
         "11",
         "1",
         "3",
         "Sandstrom, Miss. Marguerite Rut",
         "female",
         "4.0",
         "1",
         "1",
         "PP 9549",
         "16.7",
         "G6",
         "S"
        ],
        [
         "11",
         "12",
         "1",
         "1",
         "Bonnell, Miss. Elizabeth",
         "female",
         "58.0",
         "0",
         "0",
         "113783",
         "26.55",
         "C103",
         "S"
        ],
        [
         "12",
         "13",
         "0",
         "3",
         "Saundercock, Mr. William Henry",
         "male",
         "20.0",
         "0",
         "0",
         "A/5. 2151",
         "8.05",
         "C103",
         "S"
        ],
        [
         "13",
         "14",
         "0",
         "3",
         "Andersson, Mr. Anders Johan",
         "male",
         "39.0",
         "1",
         "5",
         "347082",
         "31.275",
         "C103",
         "S"
        ],
        [
         "14",
         "15",
         "0",
         "3",
         "Vestrom, Miss. Hulda Amanda Adolfina",
         "female",
         "14.0",
         "0",
         "0",
         "350406",
         "7.8542",
         "C103",
         "S"
        ],
        [
         "15",
         "16",
         "1",
         "2",
         "Hewlett, Mrs. (Mary D Kingcome) ",
         "female",
         "55.0",
         "0",
         "0",
         "248706",
         "16.0",
         "C103",
         "S"
        ],
        [
         "16",
         "17",
         "0",
         "3",
         "Rice, Master. Eugene",
         "male",
         "2.0",
         "4",
         "1",
         "382652",
         "29.125",
         "C103",
         "Q"
        ],
        [
         "17",
         "18",
         "1",
         "2",
         "Williams, Mr. Charles Eugene",
         "male",
         null,
         "0",
         "0",
         "244373",
         "13.0",
         "C103",
         "S"
        ],
        [
         "18",
         "19",
         "0",
         "3",
         "Vander Planke, Mrs. Julius (Emelia Maria Vandemoortele)",
         "female",
         "31.0",
         "1",
         "0",
         "345763",
         "18.0",
         "C103",
         "S"
        ],
        [
         "19",
         "20",
         "1",
         "3",
         "Masselmani, Mrs. Fatima",
         "female",
         null,
         "0",
         "0",
         "2649",
         "7.225",
         "C103",
         "C"
        ]
       ],
       "shape": {
        "columns": 12,
        "rows": 20
       }
      },
      "text/html": [
       "<div>\n",
       "<style scoped>\n",
       "    .dataframe tbody tr th:only-of-type {\n",
       "        vertical-align: middle;\n",
       "    }\n",
       "\n",
       "    .dataframe tbody tr th {\n",
       "        vertical-align: top;\n",
       "    }\n",
       "\n",
       "    .dataframe thead th {\n",
       "        text-align: right;\n",
       "    }\n",
       "</style>\n",
       "<table border=\"1\" class=\"dataframe\">\n",
       "  <thead>\n",
       "    <tr style=\"text-align: right;\">\n",
       "      <th></th>\n",
       "      <th>PassengerId</th>\n",
       "      <th>Survived</th>\n",
       "      <th>Pclass</th>\n",
       "      <th>Name</th>\n",
       "      <th>Sex</th>\n",
       "      <th>Age</th>\n",
       "      <th>SibSp</th>\n",
       "      <th>Parch</th>\n",
       "      <th>Ticket</th>\n",
       "      <th>Fare</th>\n",
       "      <th>Cabin</th>\n",
       "      <th>Embarked</th>\n",
       "    </tr>\n",
       "  </thead>\n",
       "  <tbody>\n",
       "    <tr>\n",
       "      <th>0</th>\n",
       "      <td>1</td>\n",
       "      <td>0</td>\n",
       "      <td>3</td>\n",
       "      <td>Braund, Mr. Owen Harris</td>\n",
       "      <td>male</td>\n",
       "      <td>22.0</td>\n",
       "      <td>1</td>\n",
       "      <td>0</td>\n",
       "      <td>A/5 21171</td>\n",
       "      <td>7.2500</td>\n",
       "      <td>NaN</td>\n",
       "      <td>S</td>\n",
       "    </tr>\n",
       "    <tr>\n",
       "      <th>1</th>\n",
       "      <td>2</td>\n",
       "      <td>1</td>\n",
       "      <td>1</td>\n",
       "      <td>Cumings, Mrs. John Bradley (Florence Briggs Th...</td>\n",
       "      <td>female</td>\n",
       "      <td>38.0</td>\n",
       "      <td>1</td>\n",
       "      <td>0</td>\n",
       "      <td>PC 17599</td>\n",
       "      <td>71.2833</td>\n",
       "      <td>C85</td>\n",
       "      <td>C</td>\n",
       "    </tr>\n",
       "    <tr>\n",
       "      <th>2</th>\n",
       "      <td>3</td>\n",
       "      <td>1</td>\n",
       "      <td>3</td>\n",
       "      <td>Heikkinen, Miss. Laina</td>\n",
       "      <td>female</td>\n",
       "      <td>26.0</td>\n",
       "      <td>0</td>\n",
       "      <td>0</td>\n",
       "      <td>STON/O2. 3101282</td>\n",
       "      <td>7.9250</td>\n",
       "      <td>C85</td>\n",
       "      <td>S</td>\n",
       "    </tr>\n",
       "    <tr>\n",
       "      <th>3</th>\n",
       "      <td>4</td>\n",
       "      <td>1</td>\n",
       "      <td>1</td>\n",
       "      <td>Futrelle, Mrs. Jacques Heath (Lily May Peel)</td>\n",
       "      <td>female</td>\n",
       "      <td>35.0</td>\n",
       "      <td>1</td>\n",
       "      <td>0</td>\n",
       "      <td>113803</td>\n",
       "      <td>53.1000</td>\n",
       "      <td>C123</td>\n",
       "      <td>S</td>\n",
       "    </tr>\n",
       "    <tr>\n",
       "      <th>4</th>\n",
       "      <td>5</td>\n",
       "      <td>0</td>\n",
       "      <td>3</td>\n",
       "      <td>Allen, Mr. William Henry</td>\n",
       "      <td>male</td>\n",
       "      <td>35.0</td>\n",
       "      <td>0</td>\n",
       "      <td>0</td>\n",
       "      <td>373450</td>\n",
       "      <td>8.0500</td>\n",
       "      <td>C123</td>\n",
       "      <td>S</td>\n",
       "    </tr>\n",
       "    <tr>\n",
       "      <th>5</th>\n",
       "      <td>6</td>\n",
       "      <td>0</td>\n",
       "      <td>3</td>\n",
       "      <td>Moran, Mr. James</td>\n",
       "      <td>male</td>\n",
       "      <td>NaN</td>\n",
       "      <td>0</td>\n",
       "      <td>0</td>\n",
       "      <td>330877</td>\n",
       "      <td>8.4583</td>\n",
       "      <td>C123</td>\n",
       "      <td>Q</td>\n",
       "    </tr>\n",
       "    <tr>\n",
       "      <th>6</th>\n",
       "      <td>7</td>\n",
       "      <td>0</td>\n",
       "      <td>1</td>\n",
       "      <td>McCarthy, Mr. Timothy J</td>\n",
       "      <td>male</td>\n",
       "      <td>54.0</td>\n",
       "      <td>0</td>\n",
       "      <td>0</td>\n",
       "      <td>17463</td>\n",
       "      <td>51.8625</td>\n",
       "      <td>E46</td>\n",
       "      <td>S</td>\n",
       "    </tr>\n",
       "    <tr>\n",
       "      <th>7</th>\n",
       "      <td>8</td>\n",
       "      <td>0</td>\n",
       "      <td>3</td>\n",
       "      <td>Palsson, Master. Gosta Leonard</td>\n",
       "      <td>male</td>\n",
       "      <td>2.0</td>\n",
       "      <td>3</td>\n",
       "      <td>1</td>\n",
       "      <td>349909</td>\n",
       "      <td>21.0750</td>\n",
       "      <td>E46</td>\n",
       "      <td>S</td>\n",
       "    </tr>\n",
       "    <tr>\n",
       "      <th>8</th>\n",
       "      <td>9</td>\n",
       "      <td>1</td>\n",
       "      <td>3</td>\n",
       "      <td>Johnson, Mrs. Oscar W (Elisabeth Vilhelmina Berg)</td>\n",
       "      <td>female</td>\n",
       "      <td>27.0</td>\n",
       "      <td>0</td>\n",
       "      <td>2</td>\n",
       "      <td>347742</td>\n",
       "      <td>11.1333</td>\n",
       "      <td>E46</td>\n",
       "      <td>S</td>\n",
       "    </tr>\n",
       "    <tr>\n",
       "      <th>9</th>\n",
       "      <td>10</td>\n",
       "      <td>1</td>\n",
       "      <td>2</td>\n",
       "      <td>Nasser, Mrs. Nicholas (Adele Achem)</td>\n",
       "      <td>female</td>\n",
       "      <td>14.0</td>\n",
       "      <td>1</td>\n",
       "      <td>0</td>\n",
       "      <td>237736</td>\n",
       "      <td>30.0708</td>\n",
       "      <td>E46</td>\n",
       "      <td>C</td>\n",
       "    </tr>\n",
       "    <tr>\n",
       "      <th>10</th>\n",
       "      <td>11</td>\n",
       "      <td>1</td>\n",
       "      <td>3</td>\n",
       "      <td>Sandstrom, Miss. Marguerite Rut</td>\n",
       "      <td>female</td>\n",
       "      <td>4.0</td>\n",
       "      <td>1</td>\n",
       "      <td>1</td>\n",
       "      <td>PP 9549</td>\n",
       "      <td>16.7000</td>\n",
       "      <td>G6</td>\n",
       "      <td>S</td>\n",
       "    </tr>\n",
       "    <tr>\n",
       "      <th>11</th>\n",
       "      <td>12</td>\n",
       "      <td>1</td>\n",
       "      <td>1</td>\n",
       "      <td>Bonnell, Miss. Elizabeth</td>\n",
       "      <td>female</td>\n",
       "      <td>58.0</td>\n",
       "      <td>0</td>\n",
       "      <td>0</td>\n",
       "      <td>113783</td>\n",
       "      <td>26.5500</td>\n",
       "      <td>C103</td>\n",
       "      <td>S</td>\n",
       "    </tr>\n",
       "    <tr>\n",
       "      <th>12</th>\n",
       "      <td>13</td>\n",
       "      <td>0</td>\n",
       "      <td>3</td>\n",
       "      <td>Saundercock, Mr. William Henry</td>\n",
       "      <td>male</td>\n",
       "      <td>20.0</td>\n",
       "      <td>0</td>\n",
       "      <td>0</td>\n",
       "      <td>A/5. 2151</td>\n",
       "      <td>8.0500</td>\n",
       "      <td>C103</td>\n",
       "      <td>S</td>\n",
       "    </tr>\n",
       "    <tr>\n",
       "      <th>13</th>\n",
       "      <td>14</td>\n",
       "      <td>0</td>\n",
       "      <td>3</td>\n",
       "      <td>Andersson, Mr. Anders Johan</td>\n",
       "      <td>male</td>\n",
       "      <td>39.0</td>\n",
       "      <td>1</td>\n",
       "      <td>5</td>\n",
       "      <td>347082</td>\n",
       "      <td>31.2750</td>\n",
       "      <td>C103</td>\n",
       "      <td>S</td>\n",
       "    </tr>\n",
       "    <tr>\n",
       "      <th>14</th>\n",
       "      <td>15</td>\n",
       "      <td>0</td>\n",
       "      <td>3</td>\n",
       "      <td>Vestrom, Miss. Hulda Amanda Adolfina</td>\n",
       "      <td>female</td>\n",
       "      <td>14.0</td>\n",
       "      <td>0</td>\n",
       "      <td>0</td>\n",
       "      <td>350406</td>\n",
       "      <td>7.8542</td>\n",
       "      <td>C103</td>\n",
       "      <td>S</td>\n",
       "    </tr>\n",
       "    <tr>\n",
       "      <th>15</th>\n",
       "      <td>16</td>\n",
       "      <td>1</td>\n",
       "      <td>2</td>\n",
       "      <td>Hewlett, Mrs. (Mary D Kingcome)</td>\n",
       "      <td>female</td>\n",
       "      <td>55.0</td>\n",
       "      <td>0</td>\n",
       "      <td>0</td>\n",
       "      <td>248706</td>\n",
       "      <td>16.0000</td>\n",
       "      <td>C103</td>\n",
       "      <td>S</td>\n",
       "    </tr>\n",
       "    <tr>\n",
       "      <th>16</th>\n",
       "      <td>17</td>\n",
       "      <td>0</td>\n",
       "      <td>3</td>\n",
       "      <td>Rice, Master. Eugene</td>\n",
       "      <td>male</td>\n",
       "      <td>2.0</td>\n",
       "      <td>4</td>\n",
       "      <td>1</td>\n",
       "      <td>382652</td>\n",
       "      <td>29.1250</td>\n",
       "      <td>C103</td>\n",
       "      <td>Q</td>\n",
       "    </tr>\n",
       "    <tr>\n",
       "      <th>17</th>\n",
       "      <td>18</td>\n",
       "      <td>1</td>\n",
       "      <td>2</td>\n",
       "      <td>Williams, Mr. Charles Eugene</td>\n",
       "      <td>male</td>\n",
       "      <td>NaN</td>\n",
       "      <td>0</td>\n",
       "      <td>0</td>\n",
       "      <td>244373</td>\n",
       "      <td>13.0000</td>\n",
       "      <td>C103</td>\n",
       "      <td>S</td>\n",
       "    </tr>\n",
       "    <tr>\n",
       "      <th>18</th>\n",
       "      <td>19</td>\n",
       "      <td>0</td>\n",
       "      <td>3</td>\n",
       "      <td>Vander Planke, Mrs. Julius (Emelia Maria Vande...</td>\n",
       "      <td>female</td>\n",
       "      <td>31.0</td>\n",
       "      <td>1</td>\n",
       "      <td>0</td>\n",
       "      <td>345763</td>\n",
       "      <td>18.0000</td>\n",
       "      <td>C103</td>\n",
       "      <td>S</td>\n",
       "    </tr>\n",
       "    <tr>\n",
       "      <th>19</th>\n",
       "      <td>20</td>\n",
       "      <td>1</td>\n",
       "      <td>3</td>\n",
       "      <td>Masselmani, Mrs. Fatima</td>\n",
       "      <td>female</td>\n",
       "      <td>NaN</td>\n",
       "      <td>0</td>\n",
       "      <td>0</td>\n",
       "      <td>2649</td>\n",
       "      <td>7.2250</td>\n",
       "      <td>C103</td>\n",
       "      <td>C</td>\n",
       "    </tr>\n",
       "  </tbody>\n",
       "</table>\n",
       "</div>"
      ],
      "text/plain": [
       "    PassengerId  Survived  Pclass  \\\n",
       "0             1         0       3   \n",
       "1             2         1       1   \n",
       "2             3         1       3   \n",
       "3             4         1       1   \n",
       "4             5         0       3   \n",
       "5             6         0       3   \n",
       "6             7         0       1   \n",
       "7             8         0       3   \n",
       "8             9         1       3   \n",
       "9            10         1       2   \n",
       "10           11         1       3   \n",
       "11           12         1       1   \n",
       "12           13         0       3   \n",
       "13           14         0       3   \n",
       "14           15         0       3   \n",
       "15           16         1       2   \n",
       "16           17         0       3   \n",
       "17           18         1       2   \n",
       "18           19         0       3   \n",
       "19           20         1       3   \n",
       "\n",
       "                                                 Name     Sex   Age  SibSp  \\\n",
       "0                             Braund, Mr. Owen Harris    male  22.0      1   \n",
       "1   Cumings, Mrs. John Bradley (Florence Briggs Th...  female  38.0      1   \n",
       "2                              Heikkinen, Miss. Laina  female  26.0      0   \n",
       "3        Futrelle, Mrs. Jacques Heath (Lily May Peel)  female  35.0      1   \n",
       "4                            Allen, Mr. William Henry    male  35.0      0   \n",
       "5                                    Moran, Mr. James    male   NaN      0   \n",
       "6                             McCarthy, Mr. Timothy J    male  54.0      0   \n",
       "7                      Palsson, Master. Gosta Leonard    male   2.0      3   \n",
       "8   Johnson, Mrs. Oscar W (Elisabeth Vilhelmina Berg)  female  27.0      0   \n",
       "9                 Nasser, Mrs. Nicholas (Adele Achem)  female  14.0      1   \n",
       "10                    Sandstrom, Miss. Marguerite Rut  female   4.0      1   \n",
       "11                           Bonnell, Miss. Elizabeth  female  58.0      0   \n",
       "12                     Saundercock, Mr. William Henry    male  20.0      0   \n",
       "13                        Andersson, Mr. Anders Johan    male  39.0      1   \n",
       "14               Vestrom, Miss. Hulda Amanda Adolfina  female  14.0      0   \n",
       "15                   Hewlett, Mrs. (Mary D Kingcome)   female  55.0      0   \n",
       "16                               Rice, Master. Eugene    male   2.0      4   \n",
       "17                       Williams, Mr. Charles Eugene    male   NaN      0   \n",
       "18  Vander Planke, Mrs. Julius (Emelia Maria Vande...  female  31.0      1   \n",
       "19                            Masselmani, Mrs. Fatima  female   NaN      0   \n",
       "\n",
       "    Parch            Ticket     Fare Cabin Embarked  \n",
       "0       0         A/5 21171   7.2500   NaN        S  \n",
       "1       0          PC 17599  71.2833   C85        C  \n",
       "2       0  STON/O2. 3101282   7.9250   C85        S  \n",
       "3       0            113803  53.1000  C123        S  \n",
       "4       0            373450   8.0500  C123        S  \n",
       "5       0            330877   8.4583  C123        Q  \n",
       "6       0             17463  51.8625   E46        S  \n",
       "7       1            349909  21.0750   E46        S  \n",
       "8       2            347742  11.1333   E46        S  \n",
       "9       0            237736  30.0708   E46        C  \n",
       "10      1           PP 9549  16.7000    G6        S  \n",
       "11      0            113783  26.5500  C103        S  \n",
       "12      0         A/5. 2151   8.0500  C103        S  \n",
       "13      5            347082  31.2750  C103        S  \n",
       "14      0            350406   7.8542  C103        S  \n",
       "15      0            248706  16.0000  C103        S  \n",
       "16      1            382652  29.1250  C103        Q  \n",
       "17      0            244373  13.0000  C103        S  \n",
       "18      0            345763  18.0000  C103        S  \n",
       "19      0              2649   7.2250  C103        C  "
      ]
     },
     "execution_count": 24,
     "metadata": {},
     "output_type": "execute_result"
    }
   ],
   "source": [
    "ex5.head(20)"
   ]
  },
  {
   "cell_type": "markdown",
   "id": "cca6eefe-bc4c-4669-b39a-c9811c85cd19",
   "metadata": {},
   "source": [
    "### Substituição por Interpolação"
   ]
  },
  {
   "cell_type": "code",
   "execution_count": 25,
   "id": "33c1cd8d-4d26-4be3-9282-fe6cf157d26b",
   "metadata": {},
   "outputs": [
    {
     "name": "stdout",
     "output_type": "stream",
     "text": [
      "22.0 22.0\n",
      "38.0 38.0\n",
      "26.0 26.0\n",
      "35.0 35.0\n",
      "35.0 35.0\n",
      "nan 44.5\n",
      "54.0 54.0\n",
      "2.0 2.0\n",
      "27.0 27.0\n",
      "14.0 14.0\n",
      "4.0 4.0\n",
      "58.0 58.0\n",
      "20.0 20.0\n",
      "39.0 39.0\n",
      "14.0 14.0\n",
      "55.0 55.0\n",
      "2.0 2.0\n",
      "nan 16.5\n",
      "31.0 31.0\n",
      "nan 33.0\n",
      "35.0 35.0\n",
      "34.0 34.0\n",
      "15.0 15.0\n",
      "28.0 28.0\n",
      "8.0 8.0\n",
      "38.0 38.0\n",
      "nan 28.5\n",
      "19.0 19.0\n",
      "nan 26.0\n",
      "nan 33.0\n",
      "40.0 40.0\n",
      "nan 48.666666666666664\n",
      "nan 57.33333333333333\n",
      "66.0 66.0\n",
      "28.0 28.0\n",
      "42.0 42.0\n",
      "nan 31.5\n",
      "21.0 21.0\n",
      "18.0 18.0\n",
      "14.0 14.0\n",
      "40.0 40.0\n",
      "27.0 27.0\n",
      "nan 15.0\n",
      "3.0 3.0\n",
      "19.0 19.0\n",
      "nan 18.8\n",
      "nan 18.6\n",
      "nan 18.4\n",
      "nan 18.2\n",
      "18.0 18.0\n",
      "7.0 7.0\n",
      "21.0 21.0\n",
      "49.0 49.0\n",
      "29.0 29.0\n",
      "65.0 65.0\n",
      "nan 43.0\n",
      "21.0 21.0\n",
      "28.5 28.5\n",
      "5.0 5.0\n",
      "11.0 11.0\n",
      "22.0 22.0\n",
      "38.0 38.0\n",
      "45.0 45.0\n",
      "4.0 4.0\n",
      "nan 12.333333333333334\n",
      "nan 20.666666666666668\n",
      "29.0 29.0\n",
      "19.0 19.0\n",
      "17.0 17.0\n",
      "26.0 26.0\n",
      "32.0 32.0\n",
      "16.0 16.0\n",
      "21.0 21.0\n",
      "26.0 26.0\n",
      "32.0 32.0\n",
      "25.0 25.0\n",
      "nan 16.943333333333335\n",
      "nan 8.886666666666667\n",
      "0.83 0.83\n",
      "30.0 30.0\n",
      "22.0 22.0\n",
      "29.0 29.0\n",
      "nan 28.5\n",
      "28.0 28.0\n",
      "17.0 17.0\n",
      "33.0 33.0\n",
      "16.0 16.0\n",
      "nan 19.5\n",
      "23.0 23.0\n",
      "24.0 24.0\n",
      "29.0 29.0\n",
      "20.0 20.0\n",
      "46.0 46.0\n",
      "26.0 26.0\n",
      "59.0 59.0\n",
      "nan 65.0\n",
      "71.0 71.0\n",
      "23.0 23.0\n",
      "34.0 34.0\n",
      "34.0 34.0\n",
      "28.0 28.0\n",
      "nan 24.5\n",
      "21.0 21.0\n",
      "33.0 33.0\n",
      "37.0 37.0\n",
      "28.0 28.0\n",
      "21.0 21.0\n",
      "nan 29.5\n",
      "38.0 38.0\n",
      "nan 42.5\n",
      "47.0 47.0\n",
      "14.5 14.5\n",
      "22.0 22.0\n",
      "20.0 20.0\n",
      "17.0 17.0\n",
      "21.0 21.0\n",
      "70.5 70.5\n",
      "29.0 29.0\n",
      "24.0 24.0\n",
      "2.0 2.0\n",
      "21.0 21.0\n",
      "nan 26.75\n",
      "32.5 32.5\n",
      "32.5 32.5\n",
      "54.0 54.0\n",
      "12.0 12.0\n",
      "nan 18.0\n",
      "24.0 24.0\n",
      "nan 34.5\n",
      "45.0 45.0\n",
      "33.0 33.0\n",
      "20.0 20.0\n",
      "47.0 47.0\n",
      "29.0 29.0\n",
      "25.0 25.0\n",
      "23.0 23.0\n",
      "19.0 19.0\n",
      "37.0 37.0\n",
      "16.0 16.0\n",
      "24.0 24.0\n",
      "nan 23.0\n",
      "22.0 22.0\n",
      "24.0 24.0\n",
      "19.0 19.0\n",
      "18.0 18.0\n",
      "19.0 19.0\n",
      "27.0 27.0\n",
      "9.0 9.0\n",
      "36.5 36.5\n",
      "42.0 42.0\n",
      "51.0 51.0\n",
      "22.0 22.0\n",
      "55.5 55.5\n",
      "40.5 40.5\n",
      "nan 45.75\n",
      "51.0 51.0\n",
      "16.0 16.0\n",
      "30.0 30.0\n",
      "nan 34.666666666666664\n",
      "nan 39.333333333333336\n",
      "44.0 44.0\n",
      "40.0 40.0\n",
      "26.0 26.0\n",
      "17.0 17.0\n",
      "1.0 1.0\n",
      "9.0 9.0\n",
      "nan 27.0\n",
      "45.0 45.0\n",
      "nan 36.5\n",
      "28.0 28.0\n",
      "61.0 61.0\n",
      "4.0 4.0\n",
      "1.0 1.0\n",
      "21.0 21.0\n",
      "56.0 56.0\n",
      "18.0 18.0\n",
      "nan 34.0\n",
      "50.0 50.0\n",
      "30.0 30.0\n",
      "36.0 36.0\n",
      "nan 27.0\n",
      "nan 18.0\n",
      "9.0 9.0\n",
      "1.0 1.0\n",
      "4.0 4.0\n",
      "nan 17.666666666666664\n",
      "nan 31.333333333333332\n",
      "45.0 45.0\n",
      "40.0 40.0\n",
      "36.0 36.0\n",
      "32.0 32.0\n",
      "19.0 19.0\n",
      "19.0 19.0\n",
      "3.0 3.0\n",
      "44.0 44.0\n",
      "58.0 58.0\n",
      "nan 50.0\n",
      "42.0 42.0\n",
      "nan 33.0\n",
      "24.0 24.0\n",
      "28.0 28.0\n",
      "nan 31.0\n",
      "34.0 34.0\n",
      "45.5 45.5\n",
      "18.0 18.0\n",
      "2.0 2.0\n",
      "32.0 32.0\n",
      "26.0 26.0\n",
      "16.0 16.0\n",
      "40.0 40.0\n",
      "24.0 24.0\n",
      "35.0 35.0\n",
      "22.0 22.0\n",
      "30.0 30.0\n",
      "nan 30.5\n",
      "31.0 31.0\n",
      "27.0 27.0\n",
      "42.0 42.0\n",
      "32.0 32.0\n",
      "30.0 30.0\n",
      "16.0 16.0\n",
      "27.0 27.0\n",
      "51.0 51.0\n",
      "nan 44.5\n",
      "38.0 38.0\n",
      "22.0 22.0\n",
      "19.0 19.0\n",
      "20.5 20.5\n",
      "18.0 18.0\n",
      "nan 26.5\n",
      "35.0 35.0\n",
      "29.0 29.0\n",
      "59.0 59.0\n",
      "5.0 5.0\n",
      "24.0 24.0\n",
      "nan 34.0\n",
      "44.0 44.0\n",
      "8.0 8.0\n",
      "19.0 19.0\n",
      "33.0 33.0\n",
      "nan 31.666666666666668\n",
      "nan 30.333333333333332\n",
      "29.0 29.0\n",
      "22.0 22.0\n",
      "30.0 30.0\n",
      "44.0 44.0\n",
      "25.0 25.0\n",
      "24.0 24.0\n",
      "37.0 37.0\n",
      "54.0 54.0\n",
      "nan 41.5\n",
      "29.0 29.0\n",
      "62.0 62.0\n",
      "30.0 30.0\n",
      "41.0 41.0\n",
      "29.0 29.0\n",
      "nan 29.5\n",
      "30.0 30.0\n",
      "35.0 35.0\n",
      "50.0 50.0\n",
      "nan 26.5\n",
      "3.0 3.0\n",
      "52.0 52.0\n",
      "40.0 40.0\n",
      "nan 38.0\n",
      "36.0 36.0\n",
      "16.0 16.0\n",
      "25.0 25.0\n",
      "58.0 58.0\n",
      "35.0 35.0\n",
      "nan 30.0\n",
      "25.0 25.0\n",
      "41.0 41.0\n",
      "37.0 37.0\n",
      "nan 50.0\n",
      "63.0 63.0\n",
      "45.0 45.0\n",
      "nan 26.0\n",
      "7.0 7.0\n",
      "35.0 35.0\n",
      "65.0 65.0\n",
      "28.0 28.0\n",
      "16.0 16.0\n",
      "19.0 19.0\n",
      "nan 26.0\n",
      "33.0 33.0\n",
      "30.0 30.0\n",
      "22.0 22.0\n",
      "42.0 42.0\n",
      "22.0 22.0\n",
      "26.0 26.0\n",
      "19.0 19.0\n",
      "36.0 36.0\n",
      "24.0 24.0\n",
      "24.0 24.0\n",
      "nan 23.75\n",
      "23.5 23.5\n",
      "2.0 2.0\n",
      "nan 26.0\n",
      "50.0 50.0\n",
      "nan 39.666666666666664\n",
      "nan 29.333333333333332\n",
      "19.0 19.0\n",
      "nan 12.973333333333333\n",
      "nan 6.946666666666667\n",
      "0.92 0.92\n",
      "nan 8.959999999999999\n",
      "17.0 17.0\n",
      "30.0 30.0\n",
      "30.0 30.0\n",
      "24.0 24.0\n",
      "18.0 18.0\n",
      "26.0 26.0\n",
      "28.0 28.0\n",
      "43.0 43.0\n",
      "26.0 26.0\n",
      "24.0 24.0\n",
      "54.0 54.0\n",
      "31.0 31.0\n",
      "40.0 40.0\n",
      "22.0 22.0\n",
      "27.0 27.0\n",
      "30.0 30.0\n",
      "22.0 22.0\n",
      "nan 29.0\n",
      "36.0 36.0\n",
      "61.0 61.0\n",
      "36.0 36.0\n",
      "31.0 31.0\n",
      "16.0 16.0\n",
      "nan 30.75\n",
      "45.5 45.5\n",
      "38.0 38.0\n",
      "16.0 16.0\n",
      "nan 20.333333333333332\n",
      "nan 24.666666666666664\n",
      "29.0 29.0\n",
      "41.0 41.0\n",
      "45.0 45.0\n",
      "45.0 45.0\n",
      "2.0 2.0\n",
      "24.0 24.0\n",
      "28.0 28.0\n",
      "25.0 25.0\n",
      "36.0 36.0\n",
      "24.0 24.0\n",
      "40.0 40.0\n",
      "nan 21.5\n",
      "3.0 3.0\n",
      "42.0 42.0\n",
      "23.0 23.0\n",
      "nan 19.0\n",
      "15.0 15.0\n",
      "25.0 25.0\n",
      "nan 26.5\n",
      "28.0 28.0\n",
      "22.0 22.0\n",
      "38.0 38.0\n",
      "nan 38.666666666666664\n",
      "nan 39.333333333333336\n",
      "40.0 40.0\n",
      "29.0 29.0\n",
      "45.0 45.0\n",
      "35.0 35.0\n",
      "nan 32.5\n",
      "30.0 30.0\n",
      "60.0 60.0\n",
      "nan 48.0\n",
      "nan 36.0\n",
      "24.0 24.0\n",
      "25.0 25.0\n",
      "18.0 18.0\n",
      "19.0 19.0\n",
      "22.0 22.0\n",
      "3.0 3.0\n",
      "nan 12.5\n",
      "22.0 22.0\n",
      "27.0 27.0\n",
      "20.0 20.0\n",
      "19.0 19.0\n",
      "42.0 42.0\n",
      "1.0 1.0\n",
      "32.0 32.0\n",
      "35.0 35.0\n",
      "nan 26.5\n",
      "18.0 18.0\n",
      "1.0 1.0\n",
      "36.0 36.0\n",
      "nan 26.5\n",
      "17.0 17.0\n",
      "36.0 36.0\n",
      "21.0 21.0\n",
      "28.0 28.0\n",
      "23.0 23.0\n",
      "24.0 24.0\n",
      "22.0 22.0\n",
      "31.0 31.0\n",
      "46.0 46.0\n",
      "23.0 23.0\n",
      "28.0 28.0\n",
      "39.0 39.0\n",
      "26.0 26.0\n",
      "21.0 21.0\n",
      "28.0 28.0\n",
      "20.0 20.0\n",
      "34.0 34.0\n",
      "51.0 51.0\n",
      "3.0 3.0\n",
      "21.0 21.0\n",
      "nan 24.0\n",
      "nan 27.0\n",
      "nan 30.0\n",
      "33.0 33.0\n",
      "nan 38.5\n",
      "44.0 44.0\n",
      "nan 39.0\n",
      "34.0 34.0\n",
      "18.0 18.0\n",
      "30.0 30.0\n",
      "10.0 10.0\n",
      "nan 15.5\n",
      "21.0 21.0\n",
      "29.0 29.0\n",
      "28.0 28.0\n",
      "18.0 18.0\n",
      "nan 23.0\n",
      "28.0 28.0\n",
      "19.0 19.0\n",
      "nan 25.5\n",
      "32.0 32.0\n",
      "28.0 28.0\n",
      "nan 35.0\n",
      "42.0 42.0\n",
      "17.0 17.0\n",
      "50.0 50.0\n",
      "14.0 14.0\n",
      "21.0 21.0\n",
      "24.0 24.0\n",
      "64.0 64.0\n",
      "31.0 31.0\n",
      "45.0 45.0\n",
      "20.0 20.0\n",
      "25.0 25.0\n",
      "28.0 28.0\n",
      "nan 16.0\n",
      "4.0 4.0\n",
      "13.0 13.0\n",
      "34.0 34.0\n",
      "5.0 5.0\n",
      "52.0 52.0\n",
      "36.0 36.0\n",
      "nan 33.0\n",
      "30.0 30.0\n",
      "49.0 49.0\n",
      "nan 39.0\n",
      "29.0 29.0\n",
      "65.0 65.0\n",
      "nan 57.5\n",
      "50.0 50.0\n",
      "nan 49.0\n",
      "48.0 48.0\n",
      "34.0 34.0\n",
      "47.0 47.0\n",
      "48.0 48.0\n",
      "nan 43.0\n",
      "38.0 38.0\n",
      "nan 47.0\n",
      "56.0 56.0\n",
      "nan 28.375\n",
      "0.75 0.75\n",
      "nan 19.375\n",
      "38.0 38.0\n",
      "33.0 33.0\n",
      "23.0 23.0\n",
      "22.0 22.0\n",
      "nan 28.0\n",
      "34.0 34.0\n",
      "29.0 29.0\n",
      "22.0 22.0\n",
      "2.0 2.0\n",
      "9.0 9.0\n",
      "nan 29.5\n",
      "50.0 50.0\n",
      "63.0 63.0\n",
      "25.0 25.0\n",
      "nan 30.0\n",
      "35.0 35.0\n",
      "58.0 58.0\n",
      "30.0 30.0\n",
      "9.0 9.0\n",
      "nan 15.0\n",
      "21.0 21.0\n",
      "55.0 55.0\n",
      "71.0 71.0\n",
      "21.0 21.0\n",
      "nan 37.5\n",
      "54.0 54.0\n",
      "nan 39.5\n",
      "25.0 25.0\n",
      "24.0 24.0\n",
      "17.0 17.0\n",
      "21.0 21.0\n",
      "nan 29.0\n",
      "37.0 37.0\n",
      "16.0 16.0\n",
      "18.0 18.0\n",
      "33.0 33.0\n",
      "nan 30.5\n",
      "28.0 28.0\n",
      "26.0 26.0\n",
      "29.0 29.0\n",
      "nan 32.5\n",
      "36.0 36.0\n",
      "54.0 54.0\n",
      "24.0 24.0\n",
      "47.0 47.0\n",
      "34.0 34.0\n",
      "nan 35.0\n",
      "36.0 36.0\n",
      "32.0 32.0\n",
      "30.0 30.0\n",
      "22.0 22.0\n",
      "nan 33.0\n",
      "44.0 44.0\n",
      "nan 42.25\n",
      "40.5 40.5\n",
      "50.0 50.0\n",
      "nan 44.5\n",
      "39.0 39.0\n",
      "23.0 23.0\n",
      "2.0 2.0\n",
      "nan 9.5\n",
      "17.0 17.0\n",
      "nan 23.5\n",
      "30.0 30.0\n",
      "7.0 7.0\n",
      "45.0 45.0\n",
      "30.0 30.0\n",
      "nan 26.0\n",
      "22.0 22.0\n",
      "36.0 36.0\n",
      "9.0 9.0\n",
      "11.0 11.0\n",
      "32.0 32.0\n",
      "50.0 50.0\n",
      "64.0 64.0\n",
      "19.0 19.0\n",
      "nan 26.0\n",
      "33.0 33.0\n",
      "8.0 8.0\n",
      "17.0 17.0\n",
      "27.0 27.0\n",
      "nan 24.5\n",
      "22.0 22.0\n",
      "22.0 22.0\n",
      "62.0 62.0\n",
      "48.0 48.0\n",
      "nan 43.5\n",
      "39.0 39.0\n",
      "36.0 36.0\n",
      "nan 38.0\n",
      "40.0 40.0\n",
      "28.0 28.0\n",
      "nan 26.666666666666668\n",
      "nan 25.333333333333332\n",
      "24.0 24.0\n",
      "19.0 19.0\n",
      "29.0 29.0\n",
      "nan 30.5\n",
      "32.0 32.0\n",
      "62.0 62.0\n",
      "53.0 53.0\n",
      "36.0 36.0\n",
      "nan 26.0\n",
      "16.0 16.0\n",
      "19.0 19.0\n",
      "34.0 34.0\n",
      "39.0 39.0\n",
      "nan 35.5\n",
      "32.0 32.0\n",
      "25.0 25.0\n",
      "39.0 39.0\n",
      "54.0 54.0\n",
      "36.0 36.0\n",
      "nan 27.0\n",
      "18.0 18.0\n",
      "47.0 47.0\n",
      "60.0 60.0\n",
      "22.0 22.0\n",
      "nan 28.5\n",
      "35.0 35.0\n",
      "52.0 52.0\n",
      "47.0 47.0\n",
      "nan 42.0\n",
      "37.0 37.0\n",
      "36.0 36.0\n",
      "nan 42.5\n",
      "49.0 49.0\n",
      "nan 49.0\n",
      "49.0 49.0\n",
      "24.0 24.0\n",
      "nan 30.666666666666668\n",
      "nan 37.333333333333336\n",
      "44.0 44.0\n",
      "35.0 35.0\n",
      "36.0 36.0\n",
      "30.0 30.0\n",
      "27.0 27.0\n",
      "22.0 22.0\n",
      "40.0 40.0\n",
      "39.0 39.0\n",
      "nan 38.0\n",
      "nan 37.0\n",
      "nan 36.0\n",
      "35.0 35.0\n",
      "24.0 24.0\n",
      "34.0 34.0\n",
      "26.0 26.0\n",
      "4.0 4.0\n",
      "26.0 26.0\n",
      "27.0 27.0\n",
      "42.0 42.0\n",
      "20.0 20.0\n",
      "21.0 21.0\n",
      "21.0 21.0\n",
      "61.0 61.0\n",
      "57.0 57.0\n",
      "21.0 21.0\n",
      "26.0 26.0\n",
      "nan 53.0\n",
      "80.0 80.0\n",
      "51.0 51.0\n",
      "32.0 32.0\n",
      "nan 20.5\n",
      "9.0 9.0\n",
      "28.0 28.0\n",
      "32.0 32.0\n",
      "31.0 31.0\n",
      "41.0 41.0\n",
      "nan 30.5\n",
      "20.0 20.0\n",
      "24.0 24.0\n",
      "2.0 2.0\n",
      "nan 1.375\n",
      "0.75 0.75\n",
      "48.0 48.0\n",
      "19.0 19.0\n",
      "56.0 56.0\n",
      "nan 39.5\n",
      "23.0 23.0\n",
      "nan 20.5\n",
      "18.0 18.0\n",
      "21.0 21.0\n",
      "nan 19.5\n",
      "18.0 18.0\n",
      "24.0 24.0\n",
      "nan 28.0\n",
      "32.0 32.0\n",
      "23.0 23.0\n",
      "58.0 58.0\n",
      "50.0 50.0\n",
      "40.0 40.0\n",
      "47.0 47.0\n",
      "36.0 36.0\n",
      "20.0 20.0\n",
      "32.0 32.0\n",
      "25.0 25.0\n",
      "nan 34.0\n",
      "43.0 43.0\n",
      "nan 41.5\n",
      "40.0 40.0\n",
      "31.0 31.0\n",
      "70.0 70.0\n",
      "31.0 31.0\n",
      "nan 24.5\n",
      "18.0 18.0\n",
      "24.5 24.5\n",
      "18.0 18.0\n",
      "43.0 43.0\n",
      "36.0 36.0\n",
      "nan 31.5\n",
      "27.0 27.0\n",
      "20.0 20.0\n",
      "14.0 14.0\n",
      "60.0 60.0\n",
      "25.0 25.0\n",
      "14.0 14.0\n",
      "19.0 19.0\n",
      "18.0 18.0\n",
      "15.0 15.0\n",
      "31.0 31.0\n",
      "4.0 4.0\n",
      "nan 14.5\n",
      "25.0 25.0\n",
      "60.0 60.0\n",
      "52.0 52.0\n",
      "44.0 44.0\n",
      "nan 46.5\n",
      "49.0 49.0\n",
      "42.0 42.0\n",
      "18.0 18.0\n",
      "35.0 35.0\n",
      "18.0 18.0\n",
      "25.0 25.0\n",
      "26.0 26.0\n",
      "39.0 39.0\n",
      "45.0 45.0\n",
      "42.0 42.0\n",
      "22.0 22.0\n",
      "nan 23.0\n",
      "24.0 24.0\n",
      "nan 36.0\n",
      "48.0 48.0\n",
      "29.0 29.0\n",
      "52.0 52.0\n",
      "19.0 19.0\n",
      "38.0 38.0\n",
      "27.0 27.0\n",
      "nan 30.0\n",
      "33.0 33.0\n",
      "6.0 6.0\n",
      "17.0 17.0\n",
      "34.0 34.0\n",
      "50.0 50.0\n",
      "27.0 27.0\n",
      "20.0 20.0\n",
      "30.0 30.0\n",
      "nan 27.5\n",
      "25.0 25.0\n",
      "25.0 25.0\n",
      "29.0 29.0\n",
      "11.0 11.0\n",
      "nan 17.0\n",
      "23.0 23.0\n",
      "23.0 23.0\n",
      "28.5 28.5\n",
      "48.0 48.0\n",
      "35.0 35.0\n",
      "nan 35.25\n",
      "nan 35.5\n",
      "nan 35.75\n",
      "36.0 36.0\n",
      "21.0 21.0\n",
      "24.0 24.0\n",
      "31.0 31.0\n",
      "70.0 70.0\n",
      "16.0 16.0\n",
      "30.0 30.0\n",
      "19.0 19.0\n",
      "31.0 31.0\n",
      "4.0 4.0\n",
      "6.0 6.0\n",
      "33.0 33.0\n",
      "23.0 23.0\n",
      "48.0 48.0\n",
      "0.67 0.67\n",
      "28.0 28.0\n",
      "18.0 18.0\n",
      "34.0 34.0\n",
      "33.0 33.0\n",
      "nan 37.0\n",
      "41.0 41.0\n",
      "20.0 20.0\n",
      "36.0 36.0\n",
      "16.0 16.0\n",
      "51.0 51.0\n",
      "nan 40.75\n",
      "30.5 30.5\n",
      "nan 31.25\n",
      "32.0 32.0\n",
      "24.0 24.0\n",
      "48.0 48.0\n",
      "57.0 57.0\n",
      "nan 55.5\n",
      "54.0 54.0\n",
      "18.0 18.0\n",
      "nan 11.5\n",
      "5.0 5.0\n",
      "nan 24.0\n",
      "43.0 43.0\n",
      "13.0 13.0\n",
      "17.0 17.0\n",
      "29.0 29.0\n",
      "nan 27.0\n",
      "25.0 25.0\n",
      "25.0 25.0\n",
      "18.0 18.0\n",
      "8.0 8.0\n",
      "1.0 1.0\n",
      "46.0 46.0\n",
      "nan 31.0\n",
      "16.0 16.0\n",
      "nan 19.0\n",
      "nan 22.0\n",
      "25.0 25.0\n",
      "39.0 39.0\n",
      "49.0 49.0\n",
      "31.0 31.0\n",
      "30.0 30.0\n",
      "30.0 30.0\n",
      "34.0 34.0\n",
      "31.0 31.0\n",
      "11.0 11.0\n",
      "0.42 0.42\n",
      "27.0 27.0\n",
      "31.0 31.0\n",
      "39.0 39.0\n",
      "18.0 18.0\n",
      "39.0 39.0\n",
      "33.0 33.0\n",
      "26.0 26.0\n",
      "39.0 39.0\n",
      "35.0 35.0\n",
      "6.0 6.0\n",
      "30.5 30.5\n",
      "nan 26.75\n",
      "23.0 23.0\n",
      "31.0 31.0\n",
      "43.0 43.0\n",
      "10.0 10.0\n",
      "52.0 52.0\n",
      "27.0 27.0\n",
      "38.0 38.0\n",
      "27.0 27.0\n",
      "2.0 2.0\n",
      "nan 1.6666666666666667\n",
      "nan 1.3333333333333335\n",
      "1.0 1.0\n",
      "nan 31.5\n",
      "62.0 62.0\n",
      "15.0 15.0\n",
      "0.83 0.83\n",
      "nan 11.915000000000001\n",
      "23.0 23.0\n",
      "18.0 18.0\n",
      "39.0 39.0\n",
      "21.0 21.0\n",
      "nan 26.5\n",
      "32.0 32.0\n",
      "nan 26.0\n",
      "20.0 20.0\n",
      "16.0 16.0\n",
      "30.0 30.0\n",
      "34.5 34.5\n",
      "17.0 17.0\n",
      "42.0 42.0\n",
      "nan 38.5\n",
      "35.0 35.0\n",
      "28.0 28.0\n",
      "nan 16.0\n",
      "4.0 4.0\n",
      "74.0 74.0\n",
      "9.0 9.0\n",
      "16.0 16.0\n",
      "44.0 44.0\n",
      "18.0 18.0\n",
      "45.0 45.0\n",
      "51.0 51.0\n",
      "24.0 24.0\n",
      "nan 32.5\n",
      "41.0 41.0\n",
      "21.0 21.0\n",
      "48.0 48.0\n",
      "nan 36.0\n",
      "24.0 24.0\n",
      "42.0 42.0\n",
      "27.0 27.0\n",
      "31.0 31.0\n",
      "nan 17.5\n",
      "4.0 4.0\n",
      "26.0 26.0\n",
      "47.0 47.0\n",
      "33.0 33.0\n",
      "47.0 47.0\n",
      "28.0 28.0\n",
      "15.0 15.0\n",
      "20.0 20.0\n",
      "19.0 19.0\n",
      "nan 37.5\n",
      "56.0 56.0\n",
      "25.0 25.0\n",
      "33.0 33.0\n",
      "22.0 22.0\n",
      "28.0 28.0\n",
      "25.0 25.0\n",
      "39.0 39.0\n",
      "27.0 27.0\n",
      "19.0 19.0\n",
      "nan 22.5\n",
      "26.0 26.0\n",
      "32.0 32.0\n"
     ]
    }
   ],
   "source": [
    "res = dados[\"Age\"].interpolate(method=\"linear\")\n",
    "\n",
    "for antigo, novo in zip(dados[\"Age\"], res):\n",
    "    print(antigo, novo)"
   ]
  },
  {
   "cell_type": "markdown",
   "id": "b4131655-f53c-486b-a4f4-a12cc1fd401d",
   "metadata": {},
   "source": [
    "**Exercício 6**: Faz sentido utilizar interpolação para imputar valores para o atributo idade do dataset de testes? Em que casos isso faz mais sentido?"
   ]
  },
  {
   "cell_type": "markdown",
   "id": "d82ab002",
   "metadata": {},
   "source": [
    "**Resposta do Exercício 6:**\n",
    "\n",
    "Não faz sentido utilizar interpolação para imputar valores para o atributo `Age` do dataset. Imputação por interpolação leva em consideração os valores vizinhos ao valores nulos, portanto, o que define a idade de uma pessoa no conjunto de dados não está nada relacionado à idade de pessoas anteriores ou posteriores presentes no dataset. Interpolação matemática faz mais sentido quando há uma relação entre os diferentes registros de uma mesma coluna, como acontece, por exemplo, em uma série temporal. Se o dataset estivesse ordenado pelo atributo `Age`, talvez a interpolação fosse um bom método para imputação."
   ]
  }
 ],
 "metadata": {
  "kernelspec": {
   "display_name": "cpa",
   "language": "python",
   "name": "python3"
  },
  "language_info": {
   "codemirror_mode": {
    "name": "ipython",
    "version": 3
   },
   "file_extension": ".py",
   "mimetype": "text/x-python",
   "name": "python",
   "nbconvert_exporter": "python",
   "pygments_lexer": "ipython3",
   "version": "3.13.2"
  }
 },
 "nbformat": 4,
 "nbformat_minor": 5
}
