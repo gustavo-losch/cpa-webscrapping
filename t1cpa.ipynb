{
 "cells": [
  {
   "cell_type": "code",
   "execution_count": 3,
   "metadata": {},
   "outputs": [],
   "source": [
    "import requests\n",
    "from bs4 import BeautifulSoup\n",
    "import time"
   ]
  },
  {
   "cell_type": "code",
   "execution_count": 5,
   "metadata": {},
   "outputs": [],
   "source": [
    "url = \"https://pt.wikipedia.org/wiki/Wikip%C3%A9dia:P%C3%A1gina_principal\"\n",
    "\n",
    "response = requests.get(url)\n",
    "soup = BeautifulSoup(response.content, \"html.parser\")"
   ]
  },
  {
   "cell_type": "code",
   "execution_count": null,
   "metadata": {},
   "outputs": [],
   "source": [
    "valid_links = [\"/wiki/Wikip%C3%A9dia:P%C3%A1gina_principal\"]\n",
    "for i in range(100):\n",
    "    valid_links = list(set(valid_links))\n",
    "    baselink = \"https://pt.wikipedia.org\"\n",
    "    url = f\"{baselink}{valid_links[i]}\"\n",
    "    response = requests.get(url)\n",
    "    soup = BeautifulSoup(response.content, \"html.parser\")\n",
    "    todos_links = soup.find(id=\"bodyContent\").find_all(\"a\")\n",
    "    for link in todos_links:\n",
    "        if \"href\" in link.attrs.keys() and link[\"href\"].startswith(\"/wiki/\"):\n",
    "            if link[\"href\"].find(\":\") == -1:\n",
    "                valid_links.append(link[\"href\"])\n",
    "                print(valid_links[i])\n",
    "    time.sleep(1)\n"
   ]
  },
  {
   "cell_type": "code",
   "execution_count": 19,
   "metadata": {},
   "outputs": [
    {
     "name": "stdout",
     "output_type": "stream",
     "text": [
      "['https://pt.wikipedia.org/wiki/Wikipédia:Página_principal', 'https://pt.wikipedia.org/wiki/Licen%C3%A7a_livre', 'https://pt.wikipedia.org/wiki/Encyclop%C3%A6dia_Britannica', 'https://pt.wikipedia.org/wiki/Biblioteca_Nacional_de_Israel', 'https://pt.wikipedia.org/wiki/Sistema_Universit%C3%A1rio_de_Documenta%C3%A7%C3%A3o', 'https://pt.wikipedia.org/wiki/Online_Computer_Library_Center', 'https://pt.wikipedia.org/wiki/Biblioteca_Nacional_da_Pol%C3%B3nia', 'https://pt.wikipedia.org/wiki/Registo_da_Mem%C3%B3ria_do_Mundo', 'https://pt.wikipedia.org/wiki/Lista_do_Patrim%C3%B4nio_Mundial_em_Perigo', 'https://pt.wikipedia.org/wiki/Organiza%C3%A7%C3%A3o_das_Na%C3%A7%C3%B5es_Unidas_para_a_Educa%C3%A7%C3%A3o,_a_Ci%C3%AAncia_e_a_Cultura']\n"
     ]
    }
   ],
   "source": [
    "import requests\n",
    "from bs4 import BeautifulSoup\n",
    "\n",
    "def coletar_links_wikipedia(inicio_url, limite=10):\n",
    "    fila = [inicio_url]\n",
    "    visitados = set()  \n",
    "    links_coletados = [] \n",
    "    \n",
    "    while fila and len(links_coletados) < limite:\n",
    "        url_atual = fila.pop()\n",
    "        \n",
    "        if url_atual in visitados:\n",
    "            continue \n",
    "        \n",
    "        visitados.add(url_atual)\n",
    "        links_coletados.append(url_atual)\n",
    "\n",
    "        # Extrai os links da página\n",
    "        response = requests.get(url_atual)\n",
    "        soup = BeautifulSoup(response.text, \"html.parser\")\n",
    "        for link in soup.find_all(\"a\", href=True):\n",
    "            verbete = link[\"href\"]\n",
    "            if verbete.startswith(\"/wiki/\") and link[\"href\"].startswith(\"/wiki/\") and link[\"href\"].find(\":\") == -1: # Filtra verbetes válidos\n",
    "                novo_link = \"https://pt.wikipedia.org\" + verbete\n",
    "                if novo_link not in visitados:\n",
    "                    fila.append(novo_link)  \n",
    "        \n",
    "    return links_coletados\n",
    "\n",
    "\n",
    "url_inicial = \"https://pt.wikipedia.org/wiki/Wikipédia:Página_principal\"\n",
    "links = coletar_links_wikipedia(url_inicial)\n",
    "\n",
    "print(links[:10])\n"
   ]
  }
 ],
 "metadata": {
  "kernelspec": {
   "display_name": "cpa",
   "language": "python",
   "name": "python3"
  },
  "language_info": {
   "codemirror_mode": {
    "name": "ipython",
    "version": 3
   },
   "file_extension": ".py",
   "mimetype": "text/x-python",
   "name": "python",
   "nbconvert_exporter": "python",
   "pygments_lexer": "ipython3",
   "version": "3.13.2"
  }
 },
 "nbformat": 4,
 "nbformat_minor": 2
}
