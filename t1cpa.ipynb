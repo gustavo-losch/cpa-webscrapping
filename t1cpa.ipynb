{
 "cells": [
  {
   "cell_type": "code",
   "execution_count": 4,
   "metadata": {},
   "outputs": [],
   "source": [
    "import requests\n",
    "from bs4 import BeautifulSoup\n",
    "import time\n",
    "import os\n",
    "import csv\n",
    "import json\n",
    "import re"
   ]
  },
  {
   "cell_type": "markdown",
   "metadata": {},
   "source": [
    "## Tarefa 1"
   ]
  },
  {
   "cell_type": "code",
   "execution_count": 39,
   "metadata": {},
   "outputs": [],
   "source": [
    "link_inicial = \"https://pt.wikipedia.org\"\n",
    "limite_paginas = 10"
   ]
  },
  {
   "cell_type": "code",
   "execution_count": 40,
   "metadata": {},
   "outputs": [
    {
     "name": "stdout",
     "output_type": "stream",
     "text": [
      "10\r"
     ]
    }
   ],
   "source": [
    "def coletar_links(url, limite):\n",
    "    # Fila contém uma série de links (todos os links das páginas acessadas). Set contém os links únicos já visitados.\n",
    "    fila = [url]\n",
    "    visitados = set()\n",
    "    salvos = 0\n",
    "\n",
    "    # Se menos de 5k links foram guardados, conitnua execução\n",
    "    while salvos < limite:\n",
    "        try:\n",
    "            # Acessa o último link inserido na fila\n",
    "            atual = fila.pop()\n",
    "\n",
    "            # Verifica se esse link já foi acessado. Se não, continua a execução e adiciona a lista de visitados.\n",
    "            if atual in visitados: \n",
    "                continue\n",
    "\n",
    "            # Carrega a página atual.\n",
    "            req = requests.get(atual)\n",
    "            soup = BeautifulSoup(req.text, 'html.parser')\n",
    "\n",
    "            titulo = soup.select(\".mw-page-title-main\")\n",
    "            nome_arquivo = titulo[0].text\n",
    "\n",
    "            # Salva a página caregada e adiciona à variável salvos\n",
    "            with open(f\"pag/{nome_arquivo}.html\", \"w\", encoding=\"utf-8\") as file:\n",
    "                conteudo = req.content.decode(\"utf-8\")\n",
    "                file.write(conteudo)\n",
    "                visitados.add(atual)\n",
    "                salvos += 1\n",
    "\n",
    "            # Itera sobre todos os links da página atual.\n",
    "            for link in soup.find_all('a', href=True):\n",
    "\n",
    "                # Verifica se a página é um verbete.\n",
    "                pagina = link['href']\n",
    "                if pagina.startswith('/wiki/') and ':' not in pagina:\n",
    "\n",
    "                    # Se algum dos links da página carregada já tiver sido visitada, pula.\n",
    "                    link_atual = 'https://pt.wikipedia.org' + pagina\n",
    "                    if link_atual in visitados:\n",
    "                        continue\n",
    "                    # Adiciona todos que forem verbetes à fila. O último link coletado será a próxima página a ser aberta.\n",
    "                    fila.append('https://pt.wikipedia.org' + pagina)\n",
    "\n",
    "            print(salvos, end=\"\\r\")\n",
    "            time.sleep(0.6)\n",
    "\n",
    "        # Evita páginas sem título (titulo[0].text)\n",
    "        except IndexError:\n",
    "            continue\n",
    "\n",
    "        # Evita erros de mal formatação de título\n",
    "        except FileNotFoundError:\n",
    "            continue\n",
    "\n",
    "    return list(visitados)\n",
    "\n",
    "links = coletar_links(link_inicial, limite_paginas)"
   ]
  },
  {
   "cell_type": "code",
   "execution_count": 41,
   "metadata": {},
   "outputs": [],
   "source": [
    "with open(\"links.csv\", \"w\", newline=\"\") as file:\n",
    "    writer = csv.writer(file)\n",
    "    fields = [\"links\"]\n",
    "    writer.writerow(fields)\n",
    "    for link in links:\n",
    "        writer.writerow([link])"
   ]
  },
  {
   "cell_type": "code",
   "execution_count": 42,
   "metadata": {},
   "outputs": [],
   "source": [
    "links = []\n",
    "with open(\"links.csv\", 'r', encoding='utf-8') as infile:\n",
    "        reader = csv.reader(infile)\n",
    "        header = next(reader)\n",
    "\n",
    "        for row in reader:\n",
    "            links.append(row)\n",
    "    "
   ]
  },
  {
   "cell_type": "code",
   "execution_count": 9,
   "metadata": {},
   "outputs": [
    {
     "name": "stdout",
     "output_type": "stream",
     "text": [
      "[['https://pt.wikipedia.org/wiki/Online_Computer_Library_Center'], ['https://pt.wikipedia.org/wiki/Lista_do_Patrim%C3%B4nio_Mundial_em_Perigo'], ['https://pt.wikipedia.org/wiki/Rickard_Falkvinge'], ['https://pt.wikipedia.org/wiki/Organiza%C3%A7%C3%A3o_das_Na%C3%A7%C3%B5es_Unidas_para_a_Educa%C3%A7%C3%A3o,_a_Ci%C3%AAncia_e_a_Cultura'], ['https://pt.wikipedia.org/wiki/Good_Copy_Bad_Copy'], ['https://pt.wikipedia.org'], ['https://pt.wikipedia.org/wiki/Registo_da_Mem%C3%B3ria_do_Mundo'], ['https://pt.wikipedia.org/wiki/Biblioteca_Nacional_da_Pol%C3%B3nia'], ['https://pt.wikipedia.org/wiki/Sistema_Universit%C3%A1rio_de_Documenta%C3%A7%C3%A3o'], ['https://pt.wikipedia.org/wiki/Licen%C3%A7a_livre']]\n"
     ]
    }
   ],
   "source": [
    "print(links)"
   ]
  },
  {
   "cell_type": "markdown",
   "metadata": {},
   "source": [
    "## Tarefa 2"
   ]
  },
  {
   "cell_type": "code",
   "execution_count": 43,
   "metadata": {},
   "outputs": [],
   "source": [
    "def create_json(url):\n",
    "    \n",
    "    # Carrega a página atual\n",
    "    response = requests.get(url)\n",
    "    bs = BeautifulSoup(response.content, \"html.parser\")\n",
    "    \n",
    "    # Busca e verifica se há infobox na página carregada\n",
    "    conteudo_principal = bs.find(\"div\", class_=\"mw-parser-output\")\n",
    "    tabela = conteudo_principal.find(\"table\", class_=\"infobox infobox_v2\") if conteudo_principal else None\n",
    "    \n",
    "    if tabela:\n",
    "        trs = tabela.find_all(\"tr\")\n",
    "        \n",
    "        # Limpa e formata o título para ser usado como nome do arquivo\n",
    "        titulo = trs[0].text.strip()\n",
    "        titulo = re.sub(r'[^\\w\\s-]', '', titulo)  # remove caracteres especiais\n",
    "        titulo = re.sub(r'\\s+', '_', titulo)      # substitui espaços por underlines\n",
    "        \n",
    "        \n",
    "        dicionario = {}\n",
    "        \n",
    "        # Itera sobre as linhas da infobox pegando chave e valor\n",
    "        for tr in trs[1:]:\n",
    "            tds = tr.find_all('td')\n",
    "            if len(tds) == 2:\n",
    "                chave = tds[0].text.strip()\n",
    "\n",
    "                # extrai o texto da célula usando \\n como separador\n",
    "                # Remove os <sup> antes de pegar o texto\n",
    "                for tag in tds[1].find_all(['sup', 'span']):\n",
    "                    tag.decompose()\n",
    "\n",
    "                valor = tds[1].get_text(separator='\\n', strip=True)\n",
    "                valor = re.sub(r',|=|\\(|\\)', '', valor)  # Só remove vírgulas e igual (se quiser)\n",
    "\n",
    "                \n",
    "                # divide o valor em uma lista e remove as linhas vazias e espaços em branco\n",
    "                itens = valor.split('\\n')\n",
    "                itens = [item.strip() for item in itens]\n",
    "                itens = [item for item in itens if item]\n",
    "                \n",
    "                \n",
    "                if len(itens) == 1:\n",
    "                    dicionario[chave] = itens[0]\n",
    "                else:\n",
    "                    dicionario[chave] = itens\n",
    "        \n",
    "        \n",
    "        with open(f\"jso/{titulo}.json\", 'w') as f:\n",
    "            json.dump(dicionario, f, indent=2, ensure_ascii=False)"
   ]
  },
  {
   "cell_type": "code",
   "execution_count": 44,
   "metadata": {},
   "outputs": [],
   "source": [
    "# Executa a função para cada link gerado pelo crawler.\n",
    "for link in links:\n",
    "    create_json(link[0])"
   ]
  }
 ],
 "metadata": {
  "kernelspec": {
   "display_name": "cpa",
   "language": "python",
   "name": "python3"
  },
  "language_info": {
   "codemirror_mode": {
    "name": "ipython",
    "version": 3
   },
   "file_extension": ".py",
   "mimetype": "text/x-python",
   "name": "python",
   "nbconvert_exporter": "python",
   "pygments_lexer": "ipython3",
   "version": "3.13.2"
  }
 },
 "nbformat": 4,
 "nbformat_minor": 2
}
