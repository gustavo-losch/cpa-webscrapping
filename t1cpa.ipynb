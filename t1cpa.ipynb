{
 "cells": [
  {
   "cell_type": "code",
   "execution_count": 46,
   "metadata": {},
   "outputs": [],
   "source": [
    "import requests\n",
    "from bs4 import BeautifulSoup\n",
    "import time"
   ]
  },
  {
   "cell_type": "code",
   "execution_count": null,
   "metadata": {},
   "outputs": [],
   "source": [
    "def coletar_links(url, limite):\n",
    "    # Fila contém uma série de links (todos os links das páginas acessadas). Set contém os links únicos já visitados.\n",
    "    fila = [url]\n",
    "    visitados = set()\n",
    "    salvos = 0\n",
    "\n",
    "    # Se menos de 5k links foram guardados, conitnua execução\n",
    "    while salvos < limite:\n",
    "        try:\n",
    "            # Acessa o último link inserido na fila\n",
    "            atual = fila.pop()\n",
    "\n",
    "            # Verifica se esse link já foi acessado. Se não, continua a execução e adiciona a lista de visitados.\n",
    "            if atual in visitados: \n",
    "                continue\n",
    "            visitados.add(atual)\n",
    "\n",
    "            # Carrega a página atual.\n",
    "            req = requests.get(atual)\n",
    "            soup = BeautifulSoup(req.text, 'html.parser')\n",
    "\n",
    "            titulo = soup.select(\".mw-page-title-main\")\n",
    "            nome_arquivo = titulo[0].text\n",
    "\n",
    "            with open(f\"pag/{nome_arquivo}.html\", \"w\", encoding=\"utf-8\") as file:\n",
    "                conteudo = req.content.decode(\"utf-8\")\n",
    "                file.write(conteudo)\n",
    "            salvos += 1\n",
    "\n",
    "            # Itera sobre todos os links da página atual.\n",
    "            for link in soup.find_all('a', href=True):\n",
    "\n",
    "                # Verifica se a página é um verbete.\n",
    "                pagina = link['href']\n",
    "                if pagina.startswith('/wiki/') and ':' not in pagina:\n",
    "\n",
    "                    # Se algum dos links da página carregada já tiver sido visitada, pula.\n",
    "                    link_atual = 'https://pt.wikipedia.org' + pagina\n",
    "                    if link_atual in visitados:\n",
    "                        continue\n",
    "                    # Adiciona todos que forem verbetes à fila. O último link coletado será a próxima página a ser aberta.\n",
    "                    fila.append('https://pt.wikipedia.org' + pagina)\n",
    "\n",
    "            print(salvos, end=\"\\r\")\n",
    "            time.sleep(0.6)\n",
    "\n",
    "        # Evita páginas sem título (titulo[0].text)\n",
    "        except IndexError:\n",
    "            continue\n",
    "\n",
    "        # Evita erros de mal formatação de título\n",
    "        except FileNotFoundError:\n",
    "            continue\n",
    "\n",
    "    return list(visitados)\n",
    "\n",
    "links = coletar_links('https://pt.wikipedia.org', 5000)\n"
   ]
  },
  {
   "cell_type": "markdown",
   "metadata": {},
   "source": [
    "## Tarefa 1"
   ]
  },
  {
   "cell_type": "code",
   "execution_count": 17,
   "metadata": {},
   "outputs": [],
   "source": [
    "import os\n",
    "import csv\n",
    "\n",
    "print(len(os.listdir(\"pages/\")))\n",
    "with open(\"links.csv\", \"w\", newline=\"\") as file:\n",
    "    writer = csv.writer(file)\n",
    "    fields = [\"links\"]\n",
    "    writer.writerow(fields)\n",
    "    for link in links:\n",
    "        writer.writerow([link])"
   ]
  },
  {
   "cell_type": "markdown",
   "metadata": {},
   "source": [
    "## Tarefa 2"
   ]
  },
  {
   "cell_type": "code",
   "execution_count": null,
   "metadata": {},
   "outputs": [],
   "source": [
    "import json\n",
    "def create_json(url):\n",
    "\n",
    "    response = requests.get(url)\n",
    "    bs = BeautifulSoup(response.content, \"html.parser\")\n",
    "\n",
    "    conteudo_principal = bs.find(\"div\", class_=\"mw-parser-output\")\n",
    "    tabela = conteudo_principal.find(\"table\", class_=\"infobox infobox_v2\") if conteudo_principal else None\n",
    "\n",
    "    if(tabela):\n",
    "\n",
    "        trs = tabela.find_all(\"tr\")\n",
    "        titulo = trs[0].text.strip()\n",
    "        titulo = re.sub(r'[^\\w\\s-]', '', titulo)  # remove caracteres especiais\n",
    "        titulo = re.sub(r'\\s+', '_', titulo)      # substitui espaços por underline\n",
    "\n",
    "        dicionario = {}\n",
    "        for tr in trs:\n",
    "            tds = tr.find_all('td')\n",
    "\n",
    "            if(len(tds) == 2):\n",
    "                div = tds[1].find(\"div\")\n",
    "\n",
    "                if(div):\n",
    "                    ul = div.find(\"ul\")\n",
    "                    \n",
    "                    if(ul):\n",
    "                        #print(f'TEM LISTAAA!!!! -----> {tds[0].text.strip()}')\n",
    "                        lis = ul.find_all('li')\n",
    "                        data_lista = []\n",
    "                        try: #caso haja paragrafo E TAMBEM lista para a mesma chave\n",
    "                            data_lista.append(tds[1].span.text.strip())\n",
    "                        except:\n",
    "                            continue\n",
    "                        for li in lis:\n",
    "                            data_lista.append(li.text.strip())\n",
    "                            #print(f'colocando {li.text.strip()} na lista {tds[0].text.strip()}')\n",
    "                        dicionario[tds[0].text.strip()] = data_lista\n",
    "                else:\n",
    "                    dicionario[tds[0].text.strip()] = tds[1].text.strip()\n",
    "        with open(f\"jsons/{titulo}.json\", 'w') as f:\n",
    "            json.dump(dicionario, f, indent=2, ensure_ascii=False)"
   ]
  },
  {
   "cell_type": "code",
   "execution_count": 45,
   "metadata": {},
   "outputs": [],
   "source": [
    "for link in links:\n",
    "    create_json(link)"
   ]
  }
 ],
 "metadata": {
  "kernelspec": {
   "display_name": "cpa",
   "language": "python",
   "name": "python3"
  },
  "language_info": {
   "codemirror_mode": {
    "name": "ipython",
    "version": 3
   },
   "file_extension": ".py",
   "mimetype": "text/x-python",
   "name": "python",
   "nbconvert_exporter": "python",
   "pygments_lexer": "ipython3",
   "version": "3.13.2"
  }
 },
 "nbformat": 4,
 "nbformat_minor": 2
}
