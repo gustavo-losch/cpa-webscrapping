{
 "cells": [
  {
   "cell_type": "code",
   "execution_count": 1,
   "metadata": {},
   "outputs": [],
   "source": [
    "import requests\n",
    "from bs4 import BeautifulSoup\n",
    "import time"
   ]
  },
  {
   "cell_type": "code",
   "execution_count": 4,
   "metadata": {},
   "outputs": [
    {
     "name": "stdout",
     "output_type": "stream",
     "text": [
      "8\r"
     ]
    },
    {
     "ename": "KeyboardInterrupt",
     "evalue": "",
     "output_type": "error",
     "traceback": [
      "\u001b[0;31m---------------------------------------------------------------------------\u001b[0m",
      "\u001b[0;31mKeyboardInterrupt\u001b[0m                         Traceback (most recent call last)",
      "Cell \u001b[0;32mIn[4], line 57\u001b[0m\n\u001b[1;32m     53\u001b[0m             \u001b[38;5;28;01mcontinue\u001b[39;00m\n\u001b[1;32m     55\u001b[0m     \u001b[38;5;28;01mreturn\u001b[39;00m \u001b[38;5;28mlist\u001b[39m(visitados)\n\u001b[0;32m---> 57\u001b[0m link \u001b[38;5;241m=\u001b[39m coletar_links(\u001b[38;5;124m'\u001b[39m\u001b[38;5;124mhttps://pt.wikipedia.org/\u001b[39m\u001b[38;5;124m'\u001b[39m)\n",
      "Cell \u001b[0;32mIn[4], line 45\u001b[0m, in \u001b[0;36mcoletar_links\u001b[0;34m(url, limite)\u001b[0m\n\u001b[1;32m     42\u001b[0m             fila\u001b[38;5;241m.\u001b[39mappend(\u001b[38;5;124m'\u001b[39m\u001b[38;5;124mhttps://pt.wikipedia.org\u001b[39m\u001b[38;5;124m'\u001b[39m \u001b[38;5;241m+\u001b[39m pagina)\n\u001b[1;32m     44\u001b[0m     \u001b[38;5;28mprint\u001b[39m(salvos, end\u001b[38;5;241m=\u001b[39m\u001b[38;5;124m\"\u001b[39m\u001b[38;5;130;01m\\r\u001b[39;00m\u001b[38;5;124m\"\u001b[39m)\n\u001b[0;32m---> 45\u001b[0m     time\u001b[38;5;241m.\u001b[39msleep(\u001b[38;5;241m0.6\u001b[39m)\n\u001b[1;32m     47\u001b[0m \u001b[38;5;66;03m# Evita páginas sem título (titulo[0].text)\u001b[39;00m\n\u001b[1;32m     48\u001b[0m \u001b[38;5;28;01mexcept\u001b[39;00m \u001b[38;5;167;01mIndexError\u001b[39;00m:\n",
      "\u001b[0;31mKeyboardInterrupt\u001b[0m: "
     ]
    }
   ],
   "source": [
    "def coletar_links(url, limite=5000):\n",
    "    # Fila contém uma série de links (todos os links das páginas acessadas). Set contém os links únicos já visitados.\n",
    "    fila = [url]\n",
    "    visitados = set()\n",
    "    salvos = 0\n",
    "\n",
    "    # Se menos de 5k links foram guardados, conitnua execução\n",
    "    while salvos < limite:\n",
    "        try:\n",
    "            # Acessa o último link inserido na fila\n",
    "            atual = fila.pop()\n",
    "\n",
    "            # Verifica se esse link já foi acessado. Se não, continua a execução e adiciona a lista de visitados.\n",
    "            if atual in visitados: \n",
    "                continue\n",
    "            visitados.add(atual)\n",
    "\n",
    "            # Carrega a página atual.\n",
    "            req = requests.get(atual)\n",
    "            soup = BeautifulSoup(req.text, 'html.parser')\n",
    "\n",
    "            titulo = soup.select(\".mw-page-title-main\")\n",
    "            nome_arquivo = titulo[0].text\n",
    "\n",
    "            with open(f\"../pag/{nome_arquivo}.html\", \"w\", encoding=\"utf-8\") as file:\n",
    "                conteudo = req.content.decode(\"utf-8\")\n",
    "                file.write(conteudo)\n",
    "            salvos += 1\n",
    "\n",
    "            # Itera sobre todos os links da página atual.\n",
    "            for link in soup.find_all('a', href=True):\n",
    "\n",
    "                # Verifica se a página é um verbete.\n",
    "                pagina = link['href']\n",
    "                if pagina.startswith('/wiki/') and ':' not in pagina:\n",
    "\n",
    "                    # Se algum dos links da página carregada já tiver sido visitada, pula.\n",
    "                    link_atual = 'https://pt.wikipedia.org' + pagina\n",
    "                    if link_atual in visitados:\n",
    "                        continue\n",
    "                    # Adiciona todos que forem verbetes à fila. O último link coletado será a próxima página a ser aberta.\n",
    "                    fila.append('https://pt.wikipedia.org' + pagina)\n",
    "\n",
    "            print(salvos, end=\"\\r\")\n",
    "            time.sleep(0.6)\n",
    "\n",
    "        # Evita páginas sem título (titulo[0].text)\n",
    "        except IndexError:\n",
    "            continue\n",
    "\n",
    "        # Evita erros de mal formatação de título\n",
    "        except FileNotFoundError:\n",
    "            continue\n",
    "\n",
    "    return list(visitados)\n",
    "\n",
    "link = coletar_links('https://pt.wikipedia.org/')\n"
   ]
  }
 ],
 "metadata": {
  "kernelspec": {
   "display_name": "cpa",
   "language": "python",
   "name": "python3"
  },
  "language_info": {
   "codemirror_mode": {
    "name": "ipython",
    "version": 3
   },
   "file_extension": ".py",
   "mimetype": "text/x-python",
   "name": "python",
   "nbconvert_exporter": "python",
   "pygments_lexer": "ipython3",
   "version": "3.13.2"
  }
 },
 "nbformat": 4,
 "nbformat_minor": 2
}
